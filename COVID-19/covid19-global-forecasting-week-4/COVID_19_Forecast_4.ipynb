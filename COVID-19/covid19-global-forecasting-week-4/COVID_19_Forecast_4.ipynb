{
  "nbformat": 4,
  "nbformat_minor": 0,
  "metadata": {
    "kernelspec": {
      "language": "python",
      "display_name": "Python 3",
      "name": "python3"
    },
    "language_info": {
      "pygments_lexer": "ipython3",
      "nbconvert_exporter": "python",
      "version": "3.6.4",
      "file_extension": ".py",
      "codemirror_mode": {
        "name": "ipython",
        "version": 3
      },
      "name": "python",
      "mimetype": "text/x-python"
    },
    "colab": {
      "name": "COVID-19-Forecast-4.ipynb",
      "provenance": [],
      "collapsed_sections": [],
      "toc_visible": true
    }
  },
  "cells": [
    {
      "cell_type": "code",
      "metadata": {
        "id": "XN-Fpbw6H31t",
        "colab_type": "code",
        "outputId": "75b3520b-b82d-4bfe-9e22-f3a5050ae2e3",
        "colab": {
          "base_uri": "https://localhost:8080/",
          "height": 55
        }
      },
      "source": [
        "from google.colab import drive\n",
        "drive.mount('/content/drive')"
      ],
      "execution_count": 1,
      "outputs": [
        {
          "output_type": "stream",
          "text": [
            "Drive already mounted at /content/drive; to attempt to forcibly remount, call drive.mount(\"/content/drive\", force_remount=True).\n"
          ],
          "name": "stdout"
        }
      ]
    },
    {
      "cell_type": "code",
      "metadata": {
        "id": "VJp-eiDEH40N",
        "colab_type": "code",
        "outputId": "ff45cd35-641d-4a8e-fff1-206d41ccf4e6",
        "colab": {
          "base_uri": "https://localhost:8080/",
          "height": 35
        }
      },
      "source": [
        "import os\n",
        "os.chdir('/content/drive/My Drive/Colab Notebooks/Data-Analysis-Projects/COVID-19')\n",
        "print(os.getcwd())"
      ],
      "execution_count": 2,
      "outputs": [
        {
          "output_type": "stream",
          "text": [
            "/content/drive/My Drive/Colab Notebooks/Data-Analysis-Projects/COVID-19\n"
          ],
          "name": "stdout"
        }
      ]
    },
    {
      "cell_type": "markdown",
      "metadata": {
        "id": "oPld0xxKH-DO",
        "colab_type": "text"
      },
      "source": [
        "## Importing Libraries"
      ]
    },
    {
      "cell_type": "code",
      "metadata": {
        "_uuid": "8f2839f25d086af736a60e9eeb907d3b93b6e0e5",
        "_cell_guid": "b1076dfc-b9ad-4769-8c92-a6c4dae69d19",
        "trusted": true,
        "id": "HI8c09i7HsL-",
        "colab_type": "code",
        "colab": {
          "base_uri": "https://localhost:8080/",
          "height": 72
        },
        "outputId": "1bfccb55-01dc-46ad-a785-1a9df1427aec"
      },
      "source": [
        "import numpy as np\n",
        "import pandas as pd\n",
        "import matplotlib.pyplot as plt\n",
        "import time\n",
        "import seaborn as sns\n",
        "import matplotlib.gridspec as gridspec\n",
        "from scipy.optimize import curve_fit"
      ],
      "execution_count": 3,
      "outputs": [
        {
          "output_type": "stream",
          "text": [
            "/usr/local/lib/python3.6/dist-packages/statsmodels/tools/_testing.py:19: FutureWarning: pandas.util.testing is deprecated. Use the functions in the public API at pandas.testing instead.\n",
            "  import pandas.util.testing as tm\n"
          ],
          "name": "stderr"
        }
      ]
    },
    {
      "cell_type": "markdown",
      "metadata": {
        "id": "v7mBZZTvIC1z",
        "colab_type": "text"
      },
      "source": [
        "## Importing dataset"
      ]
    },
    {
      "cell_type": "code",
      "metadata": {
        "_uuid": "d629ff2d2480ee46fbb7e2d37f6b5fab8052498a",
        "_cell_guid": "79c7e3d0-c299-4dcb-8224-4455121ee9b0",
        "trusted": true,
        "id": "GdplTjXHHsMa",
        "colab_type": "code",
        "colab": {}
      },
      "source": [
        "train_dataset = pd.read_csv('train.csv')\n",
        "test_dataset = pd.read_csv('test.csv')\n",
        "submission = pd.read_csv('submission.csv')"
      ],
      "execution_count": 0,
      "outputs": []
    },
    {
      "cell_type": "markdown",
      "metadata": {
        "id": "6SefFoXwIIva",
        "colab_type": "text"
      },
      "source": [
        "## View information about the dataset."
      ]
    },
    {
      "cell_type": "code",
      "metadata": {
        "trusted": true,
        "id": "HPD2JPreHsM4",
        "colab_type": "code",
        "outputId": "a90d1ae5-2fa6-4648-cf86-58bdafbd2783",
        "colab": {
          "base_uri": "https://localhost:8080/",
          "height": 243
        }
      },
      "source": [
        "train_dataset.info()"
      ],
      "execution_count": 5,
      "outputs": [
        {
          "output_type": "stream",
          "text": [
            "<class 'pandas.core.frame.DataFrame'>\n",
            "RangeIndex: 25979 entries, 0 to 25978\n",
            "Data columns (total 6 columns):\n",
            " #   Column          Non-Null Count  Dtype  \n",
            "---  ------          --------------  -----  \n",
            " 0   Id              25979 non-null  int64  \n",
            " 1   Province_State  11039 non-null  object \n",
            " 2   Country_Region  25979 non-null  object \n",
            " 3   Date            25979 non-null  object \n",
            " 4   ConfirmedCases  25979 non-null  float64\n",
            " 5   Fatalities      25979 non-null  float64\n",
            "dtypes: float64(2), int64(1), object(3)\n",
            "memory usage: 1.2+ MB\n"
          ],
          "name": "stdout"
        }
      ]
    },
    {
      "cell_type": "code",
      "metadata": {
        "trusted": true,
        "id": "cWia7JZdHsNM",
        "colab_type": "code",
        "outputId": "328a2aa4-0a40-4965-cd66-add0a3643a58",
        "colab": {
          "base_uri": "https://localhost:8080/",
          "height": 294
        }
      },
      "source": [
        "train_dataset.describe()"
      ],
      "execution_count": 6,
      "outputs": [
        {
          "output_type": "execute_result",
          "data": {
            "text/html": [
              "<div>\n",
              "<style scoped>\n",
              "    .dataframe tbody tr th:only-of-type {\n",
              "        vertical-align: middle;\n",
              "    }\n",
              "\n",
              "    .dataframe tbody tr th {\n",
              "        vertical-align: top;\n",
              "    }\n",
              "\n",
              "    .dataframe thead th {\n",
              "        text-align: right;\n",
              "    }\n",
              "</style>\n",
              "<table border=\"1\" class=\"dataframe\">\n",
              "  <thead>\n",
              "    <tr style=\"text-align: right;\">\n",
              "      <th></th>\n",
              "      <th>Id</th>\n",
              "      <th>ConfirmedCases</th>\n",
              "      <th>Fatalities</th>\n",
              "    </tr>\n",
              "  </thead>\n",
              "  <tbody>\n",
              "    <tr>\n",
              "      <th>count</th>\n",
              "      <td>25979.000000</td>\n",
              "      <td>25979.000000</td>\n",
              "      <td>25979.000000</td>\n",
              "    </tr>\n",
              "    <tr>\n",
              "      <th>mean</th>\n",
              "      <td>17826.000000</td>\n",
              "      <td>1128.434851</td>\n",
              "      <td>58.169252</td>\n",
              "    </tr>\n",
              "    <tr>\n",
              "      <th>std</th>\n",
              "      <td>10300.679697</td>\n",
              "      <td>8252.496072</td>\n",
              "      <td>660.659625</td>\n",
              "    </tr>\n",
              "    <tr>\n",
              "      <th>min</th>\n",
              "      <td>1.000000</td>\n",
              "      <td>0.000000</td>\n",
              "      <td>0.000000</td>\n",
              "    </tr>\n",
              "    <tr>\n",
              "      <th>25%</th>\n",
              "      <td>8913.500000</td>\n",
              "      <td>0.000000</td>\n",
              "      <td>0.000000</td>\n",
              "    </tr>\n",
              "    <tr>\n",
              "      <th>50%</th>\n",
              "      <td>17826.000000</td>\n",
              "      <td>1.000000</td>\n",
              "      <td>0.000000</td>\n",
              "    </tr>\n",
              "    <tr>\n",
              "      <th>75%</th>\n",
              "      <td>26738.500000</td>\n",
              "      <td>108.000000</td>\n",
              "      <td>1.000000</td>\n",
              "    </tr>\n",
              "    <tr>\n",
              "      <th>max</th>\n",
              "      <td>35651.000000</td>\n",
              "      <td>195749.000000</td>\n",
              "      <td>20465.000000</td>\n",
              "    </tr>\n",
              "  </tbody>\n",
              "</table>\n",
              "</div>"
            ],
            "text/plain": [
              "                 Id  ConfirmedCases    Fatalities\n",
              "count  25979.000000    25979.000000  25979.000000\n",
              "mean   17826.000000     1128.434851     58.169252\n",
              "std    10300.679697     8252.496072    660.659625\n",
              "min        1.000000        0.000000      0.000000\n",
              "25%     8913.500000        0.000000      0.000000\n",
              "50%    17826.000000        1.000000      0.000000\n",
              "75%    26738.500000      108.000000      1.000000\n",
              "max    35651.000000   195749.000000  20465.000000"
            ]
          },
          "metadata": {
            "tags": []
          },
          "execution_count": 6
        }
      ]
    },
    {
      "cell_type": "code",
      "metadata": {
        "trusted": true,
        "id": "fJVZCyjbHsNa",
        "colab_type": "code",
        "outputId": "16ee4742-4c86-4de8-bb36-f93d46e701ef",
        "colab": {
          "base_uri": "https://localhost:8080/",
          "height": 202
        }
      },
      "source": [
        "train_dataset.head()"
      ],
      "execution_count": 7,
      "outputs": [
        {
          "output_type": "execute_result",
          "data": {
            "text/html": [
              "<div>\n",
              "<style scoped>\n",
              "    .dataframe tbody tr th:only-of-type {\n",
              "        vertical-align: middle;\n",
              "    }\n",
              "\n",
              "    .dataframe tbody tr th {\n",
              "        vertical-align: top;\n",
              "    }\n",
              "\n",
              "    .dataframe thead th {\n",
              "        text-align: right;\n",
              "    }\n",
              "</style>\n",
              "<table border=\"1\" class=\"dataframe\">\n",
              "  <thead>\n",
              "    <tr style=\"text-align: right;\">\n",
              "      <th></th>\n",
              "      <th>Id</th>\n",
              "      <th>Province_State</th>\n",
              "      <th>Country_Region</th>\n",
              "      <th>Date</th>\n",
              "      <th>ConfirmedCases</th>\n",
              "      <th>Fatalities</th>\n",
              "    </tr>\n",
              "  </thead>\n",
              "  <tbody>\n",
              "    <tr>\n",
              "      <th>0</th>\n",
              "      <td>1</td>\n",
              "      <td>NaN</td>\n",
              "      <td>Afghanistan</td>\n",
              "      <td>2020-01-22</td>\n",
              "      <td>0.0</td>\n",
              "      <td>0.0</td>\n",
              "    </tr>\n",
              "    <tr>\n",
              "      <th>1</th>\n",
              "      <td>2</td>\n",
              "      <td>NaN</td>\n",
              "      <td>Afghanistan</td>\n",
              "      <td>2020-01-23</td>\n",
              "      <td>0.0</td>\n",
              "      <td>0.0</td>\n",
              "    </tr>\n",
              "    <tr>\n",
              "      <th>2</th>\n",
              "      <td>3</td>\n",
              "      <td>NaN</td>\n",
              "      <td>Afghanistan</td>\n",
              "      <td>2020-01-24</td>\n",
              "      <td>0.0</td>\n",
              "      <td>0.0</td>\n",
              "    </tr>\n",
              "    <tr>\n",
              "      <th>3</th>\n",
              "      <td>4</td>\n",
              "      <td>NaN</td>\n",
              "      <td>Afghanistan</td>\n",
              "      <td>2020-01-25</td>\n",
              "      <td>0.0</td>\n",
              "      <td>0.0</td>\n",
              "    </tr>\n",
              "    <tr>\n",
              "      <th>4</th>\n",
              "      <td>5</td>\n",
              "      <td>NaN</td>\n",
              "      <td>Afghanistan</td>\n",
              "      <td>2020-01-26</td>\n",
              "      <td>0.0</td>\n",
              "      <td>0.0</td>\n",
              "    </tr>\n",
              "  </tbody>\n",
              "</table>\n",
              "</div>"
            ],
            "text/plain": [
              "   Id Province_State Country_Region        Date  ConfirmedCases  Fatalities\n",
              "0   1            NaN    Afghanistan  2020-01-22             0.0         0.0\n",
              "1   2            NaN    Afghanistan  2020-01-23             0.0         0.0\n",
              "2   3            NaN    Afghanistan  2020-01-24             0.0         0.0\n",
              "3   4            NaN    Afghanistan  2020-01-25             0.0         0.0\n",
              "4   5            NaN    Afghanistan  2020-01-26             0.0         0.0"
            ]
          },
          "metadata": {
            "tags": []
          },
          "execution_count": 7
        }
      ]
    },
    {
      "cell_type": "code",
      "metadata": {
        "id": "aohwLf8jAcwM",
        "colab_type": "code",
        "colab": {
          "base_uri": "https://localhost:8080/",
          "height": 202
        },
        "outputId": "0c06bcdf-48bb-4423-b029-c2fccf01f0ce"
      },
      "source": [
        "test_dataset.head()"
      ],
      "execution_count": 8,
      "outputs": [
        {
          "output_type": "execute_result",
          "data": {
            "text/html": [
              "<div>\n",
              "<style scoped>\n",
              "    .dataframe tbody tr th:only-of-type {\n",
              "        vertical-align: middle;\n",
              "    }\n",
              "\n",
              "    .dataframe tbody tr th {\n",
              "        vertical-align: top;\n",
              "    }\n",
              "\n",
              "    .dataframe thead th {\n",
              "        text-align: right;\n",
              "    }\n",
              "</style>\n",
              "<table border=\"1\" class=\"dataframe\">\n",
              "  <thead>\n",
              "    <tr style=\"text-align: right;\">\n",
              "      <th></th>\n",
              "      <th>ForecastId</th>\n",
              "      <th>Province_State</th>\n",
              "      <th>Country_Region</th>\n",
              "      <th>Date</th>\n",
              "    </tr>\n",
              "  </thead>\n",
              "  <tbody>\n",
              "    <tr>\n",
              "      <th>0</th>\n",
              "      <td>1</td>\n",
              "      <td>NaN</td>\n",
              "      <td>Afghanistan</td>\n",
              "      <td>2020-04-02</td>\n",
              "    </tr>\n",
              "    <tr>\n",
              "      <th>1</th>\n",
              "      <td>2</td>\n",
              "      <td>NaN</td>\n",
              "      <td>Afghanistan</td>\n",
              "      <td>2020-04-03</td>\n",
              "    </tr>\n",
              "    <tr>\n",
              "      <th>2</th>\n",
              "      <td>3</td>\n",
              "      <td>NaN</td>\n",
              "      <td>Afghanistan</td>\n",
              "      <td>2020-04-04</td>\n",
              "    </tr>\n",
              "    <tr>\n",
              "      <th>3</th>\n",
              "      <td>4</td>\n",
              "      <td>NaN</td>\n",
              "      <td>Afghanistan</td>\n",
              "      <td>2020-04-05</td>\n",
              "    </tr>\n",
              "    <tr>\n",
              "      <th>4</th>\n",
              "      <td>5</td>\n",
              "      <td>NaN</td>\n",
              "      <td>Afghanistan</td>\n",
              "      <td>2020-04-06</td>\n",
              "    </tr>\n",
              "  </tbody>\n",
              "</table>\n",
              "</div>"
            ],
            "text/plain": [
              "   ForecastId Province_State Country_Region        Date\n",
              "0           1            NaN    Afghanistan  2020-04-02\n",
              "1           2            NaN    Afghanistan  2020-04-03\n",
              "2           3            NaN    Afghanistan  2020-04-04\n",
              "3           4            NaN    Afghanistan  2020-04-05\n",
              "4           5            NaN    Afghanistan  2020-04-06"
            ]
          },
          "metadata": {
            "tags": []
          },
          "execution_count": 8
        }
      ]
    },
    {
      "cell_type": "code",
      "metadata": {
        "id": "UZ_0g0QeAc09",
        "colab_type": "code",
        "colab": {
          "base_uri": "https://localhost:8080/",
          "height": 139
        },
        "outputId": "a41a0438-6925-4cf6-8151-da55ee7ada03"
      },
      "source": [
        "train_dataset.isna().sum()"
      ],
      "execution_count": 9,
      "outputs": [
        {
          "output_type": "execute_result",
          "data": {
            "text/plain": [
              "Id                    0\n",
              "Province_State    14940\n",
              "Country_Region        0\n",
              "Date                  0\n",
              "ConfirmedCases        0\n",
              "Fatalities            0\n",
              "dtype: int64"
            ]
          },
          "metadata": {
            "tags": []
          },
          "execution_count": 9
        }
      ]
    },
    {
      "cell_type": "code",
      "metadata": {
        "id": "nGubYf1PAc5f",
        "colab_type": "code",
        "colab": {
          "base_uri": "https://localhost:8080/",
          "height": 104
        },
        "outputId": "3c7ae680-759b-4139-ae79-d621fd74a407"
      },
      "source": [
        "test_dataset.isna().sum()"
      ],
      "execution_count": 10,
      "outputs": [
        {
          "output_type": "execute_result",
          "data": {
            "text/plain": [
              "ForecastId           0\n",
              "Province_State    7740\n",
              "Country_Region       0\n",
              "Date                 0\n",
              "dtype: int64"
            ]
          },
          "metadata": {
            "tags": []
          },
          "execution_count": 10
        }
      ]
    },
    {
      "cell_type": "code",
      "metadata": {
        "id": "tooeSTdmAxUT",
        "colab_type": "code",
        "colab": {}
      },
      "source": [
        "train_dataset['Province_State'].fillna('', inplace = True)\n",
        "test_dataset['Province_State'].fillna('', inplace = True)"
      ],
      "execution_count": 0,
      "outputs": []
    },
    {
      "cell_type": "code",
      "metadata": {
        "id": "UIf1gIOYAxc1",
        "colab_type": "code",
        "colab": {}
      },
      "source": [
        "train_dataset['Country_Region'] = train_dataset['Country_Region'] + ' ' + train_dataset['Province_State']\n",
        "test_dataset['Country_Region'] = test_dataset['Country_Region'] + ' ' + test_dataset['Province_State']\n",
        "del train_dataset['Province_State']\n",
        "del test_dataset['Province_State']"
      ],
      "execution_count": 0,
      "outputs": []
    },
    {
      "cell_type": "code",
      "metadata": {
        "id": "KxJstHaeAxkc",
        "colab_type": "code",
        "colab": {
          "base_uri": "https://localhost:8080/",
          "height": 202
        },
        "outputId": "70919b96-d4b3-4fed-af82-a535abce4654"
      },
      "source": [
        "train_dataset.head()"
      ],
      "execution_count": 13,
      "outputs": [
        {
          "output_type": "execute_result",
          "data": {
            "text/html": [
              "<div>\n",
              "<style scoped>\n",
              "    .dataframe tbody tr th:only-of-type {\n",
              "        vertical-align: middle;\n",
              "    }\n",
              "\n",
              "    .dataframe tbody tr th {\n",
              "        vertical-align: top;\n",
              "    }\n",
              "\n",
              "    .dataframe thead th {\n",
              "        text-align: right;\n",
              "    }\n",
              "</style>\n",
              "<table border=\"1\" class=\"dataframe\">\n",
              "  <thead>\n",
              "    <tr style=\"text-align: right;\">\n",
              "      <th></th>\n",
              "      <th>Id</th>\n",
              "      <th>Country_Region</th>\n",
              "      <th>Date</th>\n",
              "      <th>ConfirmedCases</th>\n",
              "      <th>Fatalities</th>\n",
              "    </tr>\n",
              "  </thead>\n",
              "  <tbody>\n",
              "    <tr>\n",
              "      <th>0</th>\n",
              "      <td>1</td>\n",
              "      <td>Afghanistan</td>\n",
              "      <td>2020-01-22</td>\n",
              "      <td>0.0</td>\n",
              "      <td>0.0</td>\n",
              "    </tr>\n",
              "    <tr>\n",
              "      <th>1</th>\n",
              "      <td>2</td>\n",
              "      <td>Afghanistan</td>\n",
              "      <td>2020-01-23</td>\n",
              "      <td>0.0</td>\n",
              "      <td>0.0</td>\n",
              "    </tr>\n",
              "    <tr>\n",
              "      <th>2</th>\n",
              "      <td>3</td>\n",
              "      <td>Afghanistan</td>\n",
              "      <td>2020-01-24</td>\n",
              "      <td>0.0</td>\n",
              "      <td>0.0</td>\n",
              "    </tr>\n",
              "    <tr>\n",
              "      <th>3</th>\n",
              "      <td>4</td>\n",
              "      <td>Afghanistan</td>\n",
              "      <td>2020-01-25</td>\n",
              "      <td>0.0</td>\n",
              "      <td>0.0</td>\n",
              "    </tr>\n",
              "    <tr>\n",
              "      <th>4</th>\n",
              "      <td>5</td>\n",
              "      <td>Afghanistan</td>\n",
              "      <td>2020-01-26</td>\n",
              "      <td>0.0</td>\n",
              "      <td>0.0</td>\n",
              "    </tr>\n",
              "  </tbody>\n",
              "</table>\n",
              "</div>"
            ],
            "text/plain": [
              "   Id Country_Region        Date  ConfirmedCases  Fatalities\n",
              "0   1   Afghanistan   2020-01-22             0.0         0.0\n",
              "1   2   Afghanistan   2020-01-23             0.0         0.0\n",
              "2   3   Afghanistan   2020-01-24             0.0         0.0\n",
              "3   4   Afghanistan   2020-01-25             0.0         0.0\n",
              "4   5   Afghanistan   2020-01-26             0.0         0.0"
            ]
          },
          "metadata": {
            "tags": []
          },
          "execution_count": 13
        }
      ]
    },
    {
      "cell_type": "code",
      "metadata": {
        "id": "DgcPQ_e0Axsl",
        "colab_type": "code",
        "colab": {
          "base_uri": "https://localhost:8080/",
          "height": 202
        },
        "outputId": "0127446a-920c-4999-804e-bf29ff431016"
      },
      "source": [
        "test_dataset.head()"
      ],
      "execution_count": 14,
      "outputs": [
        {
          "output_type": "execute_result",
          "data": {
            "text/html": [
              "<div>\n",
              "<style scoped>\n",
              "    .dataframe tbody tr th:only-of-type {\n",
              "        vertical-align: middle;\n",
              "    }\n",
              "\n",
              "    .dataframe tbody tr th {\n",
              "        vertical-align: top;\n",
              "    }\n",
              "\n",
              "    .dataframe thead th {\n",
              "        text-align: right;\n",
              "    }\n",
              "</style>\n",
              "<table border=\"1\" class=\"dataframe\">\n",
              "  <thead>\n",
              "    <tr style=\"text-align: right;\">\n",
              "      <th></th>\n",
              "      <th>ForecastId</th>\n",
              "      <th>Country_Region</th>\n",
              "      <th>Date</th>\n",
              "    </tr>\n",
              "  </thead>\n",
              "  <tbody>\n",
              "    <tr>\n",
              "      <th>0</th>\n",
              "      <td>1</td>\n",
              "      <td>Afghanistan</td>\n",
              "      <td>2020-04-02</td>\n",
              "    </tr>\n",
              "    <tr>\n",
              "      <th>1</th>\n",
              "      <td>2</td>\n",
              "      <td>Afghanistan</td>\n",
              "      <td>2020-04-03</td>\n",
              "    </tr>\n",
              "    <tr>\n",
              "      <th>2</th>\n",
              "      <td>3</td>\n",
              "      <td>Afghanistan</td>\n",
              "      <td>2020-04-04</td>\n",
              "    </tr>\n",
              "    <tr>\n",
              "      <th>3</th>\n",
              "      <td>4</td>\n",
              "      <td>Afghanistan</td>\n",
              "      <td>2020-04-05</td>\n",
              "    </tr>\n",
              "    <tr>\n",
              "      <th>4</th>\n",
              "      <td>5</td>\n",
              "      <td>Afghanistan</td>\n",
              "      <td>2020-04-06</td>\n",
              "    </tr>\n",
              "  </tbody>\n",
              "</table>\n",
              "</div>"
            ],
            "text/plain": [
              "   ForecastId Country_Region        Date\n",
              "0           1   Afghanistan   2020-04-02\n",
              "1           2   Afghanistan   2020-04-03\n",
              "2           3   Afghanistan   2020-04-04\n",
              "3           4   Afghanistan   2020-04-05\n",
              "4           5   Afghanistan   2020-04-06"
            ]
          },
          "metadata": {
            "tags": []
          },
          "execution_count": 14
        }
      ]
    },
    {
      "cell_type": "code",
      "metadata": {
        "id": "KKDMZeZNAxqJ",
        "colab_type": "code",
        "colab": {
          "base_uri": "https://localhost:8080/",
          "height": 104
        },
        "outputId": "c287607d-c2a6-46bf-8080-e9c519dc8413"
      },
      "source": [
        "# How many countries\n",
        "train_dataset['Country_Region'].describe()"
      ],
      "execution_count": 15,
      "outputs": [
        {
          "output_type": "execute_result",
          "data": {
            "text/plain": [
              "count       25979\n",
              "unique        313\n",
              "top       Serbia \n",
              "freq           83\n",
              "Name: Country_Region, dtype: object"
            ]
          },
          "metadata": {
            "tags": []
          },
          "execution_count": 15
        }
      ]
    },
    {
      "cell_type": "code",
      "metadata": {
        "id": "RNzZZCGNAxoY",
        "colab_type": "code",
        "colab": {}
      },
      "source": [
        "country_list = train_dataset['Country_Region'].unique()"
      ],
      "execution_count": 0,
      "outputs": []
    },
    {
      "cell_type": "code",
      "metadata": {
        "id": "3UXPWvoV59Om",
        "colab_type": "code",
        "colab": {
          "base_uri": "https://localhost:8080/",
          "height": 355
        },
        "outputId": "5f75a2f2-470c-4096-f28e-556fb23f64e0"
      },
      "source": [
        "top_comfirmedcases = train_dataset[train_dataset.Date == '2020-04-13'].sort_values(by = 'ConfirmedCases', ascending = False)\n",
        "top_comfirmedcases.head(10)"
      ],
      "execution_count": 17,
      "outputs": [
        {
          "output_type": "execute_result",
          "data": {
            "text/html": [
              "<div>\n",
              "<style scoped>\n",
              "    .dataframe tbody tr th:only-of-type {\n",
              "        vertical-align: middle;\n",
              "    }\n",
              "\n",
              "    .dataframe tbody tr th {\n",
              "        vertical-align: top;\n",
              "    }\n",
              "\n",
              "    .dataframe thead th {\n",
              "        text-align: right;\n",
              "    }\n",
              "</style>\n",
              "<table border=\"1\" class=\"dataframe\">\n",
              "  <thead>\n",
              "    <tr style=\"text-align: right;\">\n",
              "      <th></th>\n",
              "      <th>Id</th>\n",
              "      <th>Country_Region</th>\n",
              "      <th>Date</th>\n",
              "      <th>ConfirmedCases</th>\n",
              "      <th>Fatalities</th>\n",
              "    </tr>\n",
              "  </thead>\n",
              "  <tbody>\n",
              "    <tr>\n",
              "      <th>22492</th>\n",
              "      <td>30863</td>\n",
              "      <td>US New York</td>\n",
              "      <td>2020-04-13</td>\n",
              "      <td>195749.0</td>\n",
              "      <td>10058.0</td>\n",
              "    </tr>\n",
              "    <tr>\n",
              "      <th>18508</th>\n",
              "      <td>25391</td>\n",
              "      <td>Spain</td>\n",
              "      <td>2020-04-13</td>\n",
              "      <td>170099.0</td>\n",
              "      <td>17756.0</td>\n",
              "    </tr>\n",
              "    <tr>\n",
              "      <th>12200</th>\n",
              "      <td>16727</td>\n",
              "      <td>Italy</td>\n",
              "      <td>2020-04-13</td>\n",
              "      <td>159516.0</td>\n",
              "      <td>20465.0</td>\n",
              "    </tr>\n",
              "    <tr>\n",
              "      <th>10291</th>\n",
              "      <td>14105</td>\n",
              "      <td>France</td>\n",
              "      <td>2020-04-13</td>\n",
              "      <td>136779.0</td>\n",
              "      <td>14967.0</td>\n",
              "    </tr>\n",
              "    <tr>\n",
              "      <th>10623</th>\n",
              "      <td>14561</td>\n",
              "      <td>Germany</td>\n",
              "      <td>2020-04-13</td>\n",
              "      <td>130072.0</td>\n",
              "      <td>3194.0</td>\n",
              "    </tr>\n",
              "    <tr>\n",
              "      <th>20500</th>\n",
              "      <td>28127</td>\n",
              "      <td>US Florida</td>\n",
              "      <td>2020-04-13</td>\n",
              "      <td>123019.0</td>\n",
              "      <td>499.0</td>\n",
              "    </tr>\n",
              "    <tr>\n",
              "      <th>25314</th>\n",
              "      <td>34739</td>\n",
              "      <td>United Kingdom</td>\n",
              "      <td>2020-04-13</td>\n",
              "      <td>88621.0</td>\n",
              "      <td>11329.0</td>\n",
              "    </tr>\n",
              "    <tr>\n",
              "      <th>11868</th>\n",
              "      <td>16271</td>\n",
              "      <td>Iran</td>\n",
              "      <td>2020-04-13</td>\n",
              "      <td>73303.0</td>\n",
              "      <td>4585.0</td>\n",
              "    </tr>\n",
              "    <tr>\n",
              "      <th>5643</th>\n",
              "      <td>7721</td>\n",
              "      <td>China Hubei</td>\n",
              "      <td>2020-04-13</td>\n",
              "      <td>67803.0</td>\n",
              "      <td>3221.0</td>\n",
              "    </tr>\n",
              "    <tr>\n",
              "      <th>22326</th>\n",
              "      <td>30635</td>\n",
              "      <td>US New Jersey</td>\n",
              "      <td>2020-04-13</td>\n",
              "      <td>64584.0</td>\n",
              "      <td>2443.0</td>\n",
              "    </tr>\n",
              "  </tbody>\n",
              "</table>\n",
              "</div>"
            ],
            "text/plain": [
              "          Id   Country_Region        Date  ConfirmedCases  Fatalities\n",
              "22492  30863      US New York  2020-04-13        195749.0     10058.0\n",
              "18508  25391           Spain   2020-04-13        170099.0     17756.0\n",
              "12200  16727           Italy   2020-04-13        159516.0     20465.0\n",
              "10291  14105          France   2020-04-13        136779.0     14967.0\n",
              "10623  14561         Germany   2020-04-13        130072.0      3194.0\n",
              "20500  28127       US Florida  2020-04-13        123019.0       499.0\n",
              "25314  34739  United Kingdom   2020-04-13         88621.0     11329.0\n",
              "11868  16271            Iran   2020-04-13         73303.0      4585.0\n",
              "5643    7721      China Hubei  2020-04-13         67803.0      3221.0\n",
              "22326  30635    US New Jersey  2020-04-13         64584.0      2443.0"
            ]
          },
          "metadata": {
            "tags": []
          },
          "execution_count": 17
        }
      ]
    },
    {
      "cell_type": "code",
      "metadata": {
        "id": "DW4vDHlgF1bv",
        "colab_type": "code",
        "colab": {
          "base_uri": "https://localhost:8080/",
          "height": 381
        },
        "outputId": "f7813df4-66e2-4525-8ea8-3be9f3b82478"
      },
      "source": [
        "train_date = train_dataset.Date.unique()\n",
        "train_date"
      ],
      "execution_count": 18,
      "outputs": [
        {
          "output_type": "execute_result",
          "data": {
            "text/plain": [
              "array(['2020-01-22', '2020-01-23', '2020-01-24', '2020-01-25',\n",
              "       '2020-01-26', '2020-01-27', '2020-01-28', '2020-01-29',\n",
              "       '2020-01-30', '2020-01-31', '2020-02-01', '2020-02-02',\n",
              "       '2020-02-03', '2020-02-04', '2020-02-05', '2020-02-06',\n",
              "       '2020-02-07', '2020-02-08', '2020-02-09', '2020-02-10',\n",
              "       '2020-02-11', '2020-02-12', '2020-02-13', '2020-02-14',\n",
              "       '2020-02-15', '2020-02-16', '2020-02-17', '2020-02-18',\n",
              "       '2020-02-19', '2020-02-20', '2020-02-21', '2020-02-22',\n",
              "       '2020-02-23', '2020-02-24', '2020-02-25', '2020-02-26',\n",
              "       '2020-02-27', '2020-02-28', '2020-02-29', '2020-03-01',\n",
              "       '2020-03-02', '2020-03-03', '2020-03-04', '2020-03-05',\n",
              "       '2020-03-06', '2020-03-07', '2020-03-08', '2020-03-09',\n",
              "       '2020-03-10', '2020-03-11', '2020-03-12', '2020-03-13',\n",
              "       '2020-03-14', '2020-03-15', '2020-03-16', '2020-03-17',\n",
              "       '2020-03-18', '2020-03-19', '2020-03-20', '2020-03-21',\n",
              "       '2020-03-22', '2020-03-23', '2020-03-24', '2020-03-25',\n",
              "       '2020-03-26', '2020-03-27', '2020-03-28', '2020-03-29',\n",
              "       '2020-03-30', '2020-03-31', '2020-04-01', '2020-04-02',\n",
              "       '2020-04-03', '2020-04-04', '2020-04-05', '2020-04-06',\n",
              "       '2020-04-07', '2020-04-08', '2020-04-09', '2020-04-10',\n",
              "       '2020-04-11', '2020-04-12', '2020-04-13'], dtype=object)"
            ]
          },
          "metadata": {
            "tags": []
          },
          "execution_count": 18
        }
      ]
    },
    {
      "cell_type": "code",
      "metadata": {
        "id": "6fEV0ucfAxiu",
        "colab_type": "code",
        "colab": {
          "base_uri": "https://localhost:8080/",
          "height": 208
        },
        "outputId": "0ccf828f-a4c0-4a56-eee3-e84a8fdd3b78"
      },
      "source": [
        "test_date = test_dataset.Date.unique()\n",
        "test_date"
      ],
      "execution_count": 19,
      "outputs": [
        {
          "output_type": "execute_result",
          "data": {
            "text/plain": [
              "array(['2020-04-02', '2020-04-03', '2020-04-04', '2020-04-05',\n",
              "       '2020-04-06', '2020-04-07', '2020-04-08', '2020-04-09',\n",
              "       '2020-04-10', '2020-04-11', '2020-04-12', '2020-04-13',\n",
              "       '2020-04-14', '2020-04-15', '2020-04-16', '2020-04-17',\n",
              "       '2020-04-18', '2020-04-19', '2020-04-20', '2020-04-21',\n",
              "       '2020-04-22', '2020-04-23', '2020-04-24', '2020-04-25',\n",
              "       '2020-04-26', '2020-04-27', '2020-04-28', '2020-04-29',\n",
              "       '2020-04-30', '2020-05-01', '2020-05-02', '2020-05-03',\n",
              "       '2020-05-04', '2020-05-05', '2020-05-06', '2020-05-07',\n",
              "       '2020-05-08', '2020-05-09', '2020-05-10', '2020-05-11',\n",
              "       '2020-05-12', '2020-05-13', '2020-05-14'], dtype=object)"
            ]
          },
          "metadata": {
            "tags": []
          },
          "execution_count": 19
        }
      ]
    },
    {
      "cell_type": "code",
      "metadata": {
        "id": "CaGGKPDaQKUW",
        "colab_type": "code",
        "colab": {
          "base_uri": "https://localhost:8080/",
          "height": 104
        },
        "outputId": "541a8055-1f18-4d5e-f55c-3ce7cd1cd9ae"
      },
      "source": [
        "train_days = np.arange(len(train_date))\n",
        "train_days"
      ],
      "execution_count": 20,
      "outputs": [
        {
          "output_type": "execute_result",
          "data": {
            "text/plain": [
              "array([ 0,  1,  2,  3,  4,  5,  6,  7,  8,  9, 10, 11, 12, 13, 14, 15, 16,\n",
              "       17, 18, 19, 20, 21, 22, 23, 24, 25, 26, 27, 28, 29, 30, 31, 32, 33,\n",
              "       34, 35, 36, 37, 38, 39, 40, 41, 42, 43, 44, 45, 46, 47, 48, 49, 50,\n",
              "       51, 52, 53, 54, 55, 56, 57, 58, 59, 60, 61, 62, 63, 64, 65, 66, 67,\n",
              "       68, 69, 70, 71, 72, 73, 74, 75, 76, 77, 78, 79, 80, 81, 82])"
            ]
          },
          "metadata": {
            "tags": []
          },
          "execution_count": 20
        }
      ]
    },
    {
      "cell_type": "code",
      "metadata": {
        "id": "fWSMDKyIQl1L",
        "colab_type": "code",
        "colab": {
          "base_uri": "https://localhost:8080/",
          "height": 35
        },
        "outputId": "022ed4c7-46af-4bd3-f895-e2a00152f98a"
      },
      "source": [
        "train_days[train_date == '2020-04-02']"
      ],
      "execution_count": 21,
      "outputs": [
        {
          "output_type": "execute_result",
          "data": {
            "text/plain": [
              "array([71])"
            ]
          },
          "metadata": {
            "tags": []
          },
          "execution_count": 21
        }
      ]
    },
    {
      "cell_type": "code",
      "metadata": {
        "id": "-3JmVJCUQl56",
        "colab_type": "code",
        "colab": {}
      },
      "source": [
        "test_days = np.arange(len(test_date)) + 71"
      ],
      "execution_count": 0,
      "outputs": []
    },
    {
      "cell_type": "code",
      "metadata": {
        "id": "Q4bUNEYJQlyq",
        "colab_type": "code",
        "colab": {
          "base_uri": "https://localhost:8080/",
          "height": 87
        },
        "outputId": "6ae2febf-5255-4ade-c504-a31ca483845c"
      },
      "source": [
        "test_days"
      ],
      "execution_count": 23,
      "outputs": [
        {
          "output_type": "execute_result",
          "data": {
            "text/plain": [
              "array([ 71,  72,  73,  74,  75,  76,  77,  78,  79,  80,  81,  82,  83,\n",
              "        84,  85,  86,  87,  88,  89,  90,  91,  92,  93,  94,  95,  96,\n",
              "        97,  98,  99, 100, 101, 102, 103, 104, 105, 106, 107, 108, 109,\n",
              "       110, 111, 112, 113])"
            ]
          },
          "metadata": {
            "tags": []
          },
          "execution_count": 23
        }
      ]
    },
    {
      "cell_type": "code",
      "metadata": {
        "id": "YCRPmzSGwMEP",
        "colab_type": "code",
        "colab": {}
      },
      "source": [
        "train_end = train_days[-1]\n",
        "test_start = test_days[0]"
      ],
      "execution_count": 0,
      "outputs": []
    },
    {
      "cell_type": "code",
      "metadata": {
        "id": "eGLCZ2okwb1e",
        "colab_type": "code",
        "colab": {
          "base_uri": "https://localhost:8080/",
          "height": 35
        },
        "outputId": "95c321be-5d1d-4567-d719-08c860e43153"
      },
      "source": [
        "train_end"
      ],
      "execution_count": 25,
      "outputs": [
        {
          "output_type": "execute_result",
          "data": {
            "text/plain": [
              "82"
            ]
          },
          "metadata": {
            "tags": []
          },
          "execution_count": 25
        }
      ]
    },
    {
      "cell_type": "code",
      "metadata": {
        "id": "CyizRTyuwbmA",
        "colab_type": "code",
        "colab": {
          "base_uri": "https://localhost:8080/",
          "height": 35
        },
        "outputId": "4c3f7805-d538-4910-8b03-e071d6c379fa"
      },
      "source": [
        "test_start"
      ],
      "execution_count": 26,
      "outputs": [
        {
          "output_type": "execute_result",
          "data": {
            "text/plain": [
              "71"
            ]
          },
          "metadata": {
            "tags": []
          },
          "execution_count": 26
        }
      ]
    },
    {
      "cell_type": "code",
      "metadata": {
        "id": "46Wz3-iJGH7l",
        "colab_type": "code",
        "colab": {}
      },
      "source": [
        "Day = np.zeros(len(train_dataset))\n",
        "for ii in range(len(train_date)):\n",
        "    Day[train_dataset.Date == train_date[ii]] = train_days[ii]\n",
        "train_dataset['Day'] = Day"
      ],
      "execution_count": 0,
      "outputs": []
    },
    {
      "cell_type": "code",
      "metadata": {
        "id": "82LvfUf5ZKCQ",
        "colab_type": "code",
        "colab": {
          "base_uri": "https://localhost:8080/",
          "height": 355
        },
        "outputId": "b71c128a-c495-4bfb-9f15-72e3fa82361e"
      },
      "source": [
        "train_dataset.head(10)"
      ],
      "execution_count": 28,
      "outputs": [
        {
          "output_type": "execute_result",
          "data": {
            "text/html": [
              "<div>\n",
              "<style scoped>\n",
              "    .dataframe tbody tr th:only-of-type {\n",
              "        vertical-align: middle;\n",
              "    }\n",
              "\n",
              "    .dataframe tbody tr th {\n",
              "        vertical-align: top;\n",
              "    }\n",
              "\n",
              "    .dataframe thead th {\n",
              "        text-align: right;\n",
              "    }\n",
              "</style>\n",
              "<table border=\"1\" class=\"dataframe\">\n",
              "  <thead>\n",
              "    <tr style=\"text-align: right;\">\n",
              "      <th></th>\n",
              "      <th>Id</th>\n",
              "      <th>Country_Region</th>\n",
              "      <th>Date</th>\n",
              "      <th>ConfirmedCases</th>\n",
              "      <th>Fatalities</th>\n",
              "      <th>Day</th>\n",
              "    </tr>\n",
              "  </thead>\n",
              "  <tbody>\n",
              "    <tr>\n",
              "      <th>0</th>\n",
              "      <td>1</td>\n",
              "      <td>Afghanistan</td>\n",
              "      <td>2020-01-22</td>\n",
              "      <td>0.0</td>\n",
              "      <td>0.0</td>\n",
              "      <td>0.0</td>\n",
              "    </tr>\n",
              "    <tr>\n",
              "      <th>1</th>\n",
              "      <td>2</td>\n",
              "      <td>Afghanistan</td>\n",
              "      <td>2020-01-23</td>\n",
              "      <td>0.0</td>\n",
              "      <td>0.0</td>\n",
              "      <td>1.0</td>\n",
              "    </tr>\n",
              "    <tr>\n",
              "      <th>2</th>\n",
              "      <td>3</td>\n",
              "      <td>Afghanistan</td>\n",
              "      <td>2020-01-24</td>\n",
              "      <td>0.0</td>\n",
              "      <td>0.0</td>\n",
              "      <td>2.0</td>\n",
              "    </tr>\n",
              "    <tr>\n",
              "      <th>3</th>\n",
              "      <td>4</td>\n",
              "      <td>Afghanistan</td>\n",
              "      <td>2020-01-25</td>\n",
              "      <td>0.0</td>\n",
              "      <td>0.0</td>\n",
              "      <td>3.0</td>\n",
              "    </tr>\n",
              "    <tr>\n",
              "      <th>4</th>\n",
              "      <td>5</td>\n",
              "      <td>Afghanistan</td>\n",
              "      <td>2020-01-26</td>\n",
              "      <td>0.0</td>\n",
              "      <td>0.0</td>\n",
              "      <td>4.0</td>\n",
              "    </tr>\n",
              "    <tr>\n",
              "      <th>5</th>\n",
              "      <td>6</td>\n",
              "      <td>Afghanistan</td>\n",
              "      <td>2020-01-27</td>\n",
              "      <td>0.0</td>\n",
              "      <td>0.0</td>\n",
              "      <td>5.0</td>\n",
              "    </tr>\n",
              "    <tr>\n",
              "      <th>6</th>\n",
              "      <td>7</td>\n",
              "      <td>Afghanistan</td>\n",
              "      <td>2020-01-28</td>\n",
              "      <td>0.0</td>\n",
              "      <td>0.0</td>\n",
              "      <td>6.0</td>\n",
              "    </tr>\n",
              "    <tr>\n",
              "      <th>7</th>\n",
              "      <td>8</td>\n",
              "      <td>Afghanistan</td>\n",
              "      <td>2020-01-29</td>\n",
              "      <td>0.0</td>\n",
              "      <td>0.0</td>\n",
              "      <td>7.0</td>\n",
              "    </tr>\n",
              "    <tr>\n",
              "      <th>8</th>\n",
              "      <td>9</td>\n",
              "      <td>Afghanistan</td>\n",
              "      <td>2020-01-30</td>\n",
              "      <td>0.0</td>\n",
              "      <td>0.0</td>\n",
              "      <td>8.0</td>\n",
              "    </tr>\n",
              "    <tr>\n",
              "      <th>9</th>\n",
              "      <td>10</td>\n",
              "      <td>Afghanistan</td>\n",
              "      <td>2020-01-31</td>\n",
              "      <td>0.0</td>\n",
              "      <td>0.0</td>\n",
              "      <td>9.0</td>\n",
              "    </tr>\n",
              "  </tbody>\n",
              "</table>\n",
              "</div>"
            ],
            "text/plain": [
              "   Id Country_Region        Date  ConfirmedCases  Fatalities  Day\n",
              "0   1   Afghanistan   2020-01-22             0.0         0.0  0.0\n",
              "1   2   Afghanistan   2020-01-23             0.0         0.0  1.0\n",
              "2   3   Afghanistan   2020-01-24             0.0         0.0  2.0\n",
              "3   4   Afghanistan   2020-01-25             0.0         0.0  3.0\n",
              "4   5   Afghanistan   2020-01-26             0.0         0.0  4.0\n",
              "5   6   Afghanistan   2020-01-27             0.0         0.0  5.0\n",
              "6   7   Afghanistan   2020-01-28             0.0         0.0  6.0\n",
              "7   8   Afghanistan   2020-01-29             0.0         0.0  7.0\n",
              "8   9   Afghanistan   2020-01-30             0.0         0.0  8.0\n",
              "9  10   Afghanistan   2020-01-31             0.0         0.0  9.0"
            ]
          },
          "metadata": {
            "tags": []
          },
          "execution_count": 28
        }
      ]
    },
    {
      "cell_type": "code",
      "metadata": {
        "id": "_hEsQUz9bOYX",
        "colab_type": "code",
        "colab": {}
      },
      "source": [
        "Day = np.zeros(len(test_dataset))\n",
        "for ii in range(len(test_date)):\n",
        "    Day[test_dataset.Date == test_date[ii]] = test_days[ii]\n",
        "test_dataset['Day'] = Day"
      ],
      "execution_count": 0,
      "outputs": []
    },
    {
      "cell_type": "code",
      "metadata": {
        "id": "4N8rJRalbOWe",
        "colab_type": "code",
        "colab": {
          "base_uri": "https://localhost:8080/",
          "height": 355
        },
        "outputId": "6998d6d9-05cd-4818-ec3f-d233ccfedf16"
      },
      "source": [
        "test_dataset.head(10)"
      ],
      "execution_count": 30,
      "outputs": [
        {
          "output_type": "execute_result",
          "data": {
            "text/html": [
              "<div>\n",
              "<style scoped>\n",
              "    .dataframe tbody tr th:only-of-type {\n",
              "        vertical-align: middle;\n",
              "    }\n",
              "\n",
              "    .dataframe tbody tr th {\n",
              "        vertical-align: top;\n",
              "    }\n",
              "\n",
              "    .dataframe thead th {\n",
              "        text-align: right;\n",
              "    }\n",
              "</style>\n",
              "<table border=\"1\" class=\"dataframe\">\n",
              "  <thead>\n",
              "    <tr style=\"text-align: right;\">\n",
              "      <th></th>\n",
              "      <th>ForecastId</th>\n",
              "      <th>Country_Region</th>\n",
              "      <th>Date</th>\n",
              "      <th>Day</th>\n",
              "    </tr>\n",
              "  </thead>\n",
              "  <tbody>\n",
              "    <tr>\n",
              "      <th>0</th>\n",
              "      <td>1</td>\n",
              "      <td>Afghanistan</td>\n",
              "      <td>2020-04-02</td>\n",
              "      <td>71.0</td>\n",
              "    </tr>\n",
              "    <tr>\n",
              "      <th>1</th>\n",
              "      <td>2</td>\n",
              "      <td>Afghanistan</td>\n",
              "      <td>2020-04-03</td>\n",
              "      <td>72.0</td>\n",
              "    </tr>\n",
              "    <tr>\n",
              "      <th>2</th>\n",
              "      <td>3</td>\n",
              "      <td>Afghanistan</td>\n",
              "      <td>2020-04-04</td>\n",
              "      <td>73.0</td>\n",
              "    </tr>\n",
              "    <tr>\n",
              "      <th>3</th>\n",
              "      <td>4</td>\n",
              "      <td>Afghanistan</td>\n",
              "      <td>2020-04-05</td>\n",
              "      <td>74.0</td>\n",
              "    </tr>\n",
              "    <tr>\n",
              "      <th>4</th>\n",
              "      <td>5</td>\n",
              "      <td>Afghanistan</td>\n",
              "      <td>2020-04-06</td>\n",
              "      <td>75.0</td>\n",
              "    </tr>\n",
              "    <tr>\n",
              "      <th>5</th>\n",
              "      <td>6</td>\n",
              "      <td>Afghanistan</td>\n",
              "      <td>2020-04-07</td>\n",
              "      <td>76.0</td>\n",
              "    </tr>\n",
              "    <tr>\n",
              "      <th>6</th>\n",
              "      <td>7</td>\n",
              "      <td>Afghanistan</td>\n",
              "      <td>2020-04-08</td>\n",
              "      <td>77.0</td>\n",
              "    </tr>\n",
              "    <tr>\n",
              "      <th>7</th>\n",
              "      <td>8</td>\n",
              "      <td>Afghanistan</td>\n",
              "      <td>2020-04-09</td>\n",
              "      <td>78.0</td>\n",
              "    </tr>\n",
              "    <tr>\n",
              "      <th>8</th>\n",
              "      <td>9</td>\n",
              "      <td>Afghanistan</td>\n",
              "      <td>2020-04-10</td>\n",
              "      <td>79.0</td>\n",
              "    </tr>\n",
              "    <tr>\n",
              "      <th>9</th>\n",
              "      <td>10</td>\n",
              "      <td>Afghanistan</td>\n",
              "      <td>2020-04-11</td>\n",
              "      <td>80.0</td>\n",
              "    </tr>\n",
              "  </tbody>\n",
              "</table>\n",
              "</div>"
            ],
            "text/plain": [
              "   ForecastId Country_Region        Date   Day\n",
              "0           1   Afghanistan   2020-04-02  71.0\n",
              "1           2   Afghanistan   2020-04-03  72.0\n",
              "2           3   Afghanistan   2020-04-04  73.0\n",
              "3           4   Afghanistan   2020-04-05  74.0\n",
              "4           5   Afghanistan   2020-04-06  75.0\n",
              "5           6   Afghanistan   2020-04-07  76.0\n",
              "6           7   Afghanistan   2020-04-08  77.0\n",
              "7           8   Afghanistan   2020-04-09  78.0\n",
              "8           9   Afghanistan   2020-04-10  79.0\n",
              "9          10   Afghanistan   2020-04-11  80.0"
            ]
          },
          "metadata": {
            "tags": []
          },
          "execution_count": 30
        }
      ]
    },
    {
      "cell_type": "code",
      "metadata": {
        "id": "taawoMdUmQ69",
        "colab_type": "code",
        "colab": {
          "base_uri": "https://localhost:8080/",
          "height": 202
        },
        "outputId": "4a97a740-d2fa-4341-8289-690117b3e9d1"
      },
      "source": [
        "country = 'Spain '\n",
        "train_dataset[train_dataset['Country_Region'] == country].head()"
      ],
      "execution_count": 135,
      "outputs": [
        {
          "output_type": "execute_result",
          "data": {
            "text/html": [
              "<div>\n",
              "<style scoped>\n",
              "    .dataframe tbody tr th:only-of-type {\n",
              "        vertical-align: middle;\n",
              "    }\n",
              "\n",
              "    .dataframe tbody tr th {\n",
              "        vertical-align: top;\n",
              "    }\n",
              "\n",
              "    .dataframe thead th {\n",
              "        text-align: right;\n",
              "    }\n",
              "</style>\n",
              "<table border=\"1\" class=\"dataframe\">\n",
              "  <thead>\n",
              "    <tr style=\"text-align: right;\">\n",
              "      <th></th>\n",
              "      <th>Id</th>\n",
              "      <th>Country_Region</th>\n",
              "      <th>Date</th>\n",
              "      <th>ConfirmedCases</th>\n",
              "      <th>Fatalities</th>\n",
              "      <th>Day</th>\n",
              "    </tr>\n",
              "  </thead>\n",
              "  <tbody>\n",
              "    <tr>\n",
              "      <th>18426</th>\n",
              "      <td>25309</td>\n",
              "      <td>Spain</td>\n",
              "      <td>2020-01-22</td>\n",
              "      <td>0.0</td>\n",
              "      <td>0.0</td>\n",
              "      <td>0.0</td>\n",
              "    </tr>\n",
              "    <tr>\n",
              "      <th>18427</th>\n",
              "      <td>25310</td>\n",
              "      <td>Spain</td>\n",
              "      <td>2020-01-23</td>\n",
              "      <td>0.0</td>\n",
              "      <td>0.0</td>\n",
              "      <td>1.0</td>\n",
              "    </tr>\n",
              "    <tr>\n",
              "      <th>18428</th>\n",
              "      <td>25311</td>\n",
              "      <td>Spain</td>\n",
              "      <td>2020-01-24</td>\n",
              "      <td>0.0</td>\n",
              "      <td>0.0</td>\n",
              "      <td>2.0</td>\n",
              "    </tr>\n",
              "    <tr>\n",
              "      <th>18429</th>\n",
              "      <td>25312</td>\n",
              "      <td>Spain</td>\n",
              "      <td>2020-01-25</td>\n",
              "      <td>0.0</td>\n",
              "      <td>0.0</td>\n",
              "      <td>3.0</td>\n",
              "    </tr>\n",
              "    <tr>\n",
              "      <th>18430</th>\n",
              "      <td>25313</td>\n",
              "      <td>Spain</td>\n",
              "      <td>2020-01-26</td>\n",
              "      <td>0.0</td>\n",
              "      <td>0.0</td>\n",
              "      <td>4.0</td>\n",
              "    </tr>\n",
              "  </tbody>\n",
              "</table>\n",
              "</div>"
            ],
            "text/plain": [
              "          Id Country_Region        Date  ConfirmedCases  Fatalities  Day\n",
              "18426  25309         Spain   2020-01-22             0.0         0.0  0.0\n",
              "18427  25310         Spain   2020-01-23             0.0         0.0  1.0\n",
              "18428  25311         Spain   2020-01-24             0.0         0.0  2.0\n",
              "18429  25312         Spain   2020-01-25             0.0         0.0  3.0\n",
              "18430  25313         Spain   2020-01-26             0.0         0.0  4.0"
            ]
          },
          "metadata": {
            "tags": []
          },
          "execution_count": 135
        }
      ]
    },
    {
      "cell_type": "code",
      "metadata": {
        "id": "SewjWGXvRLNY",
        "colab_type": "code",
        "colab": {}
      },
      "source": [
        "train = train_dataset[train_dataset['Country_Region'] == country]\n",
        "test = test_dataset[test_dataset['Country_Region'] == country]\n",
        "\n",
        "# X_train\n",
        "x_train = train.Day.values\n",
        "cases_train = train.ConfirmedCases.values\n",
        "fatality_train = train.Fatalities.values\n",
        "\n",
        "# X_test\n",
        "x_test = test.Day.values"
      ],
      "execution_count": 0,
      "outputs": []
    },
    {
      "cell_type": "code",
      "metadata": {
        "id": "b7DQfP9WRxMd",
        "colab_type": "code",
        "colab": {
          "base_uri": "https://localhost:8080/",
          "height": 228
        },
        "outputId": "d6ed3688-e056-4215-9912-a1aca3ebae93"
      },
      "source": [
        "plt.figure(figsize = (15, 3))\n",
        "plt.subplot(1, 2, 1)\n",
        "plt.xlabel('Days')\n",
        "plt.ylabel('Comfirmed cases')\n",
        "plt.title(country)\n",
        "plt.plot(x_train, cases_train)\n",
        "plt.grid()\n",
        "\n",
        "plt.subplot(1, 2, 2)\n",
        "plt.xlabel('Days')\n",
        "plt.ylabel('Fatalties')\n",
        "plt.title(country)\n",
        "plt.plot(x_train, fatality_train)\n",
        "plt.grid()\n",
        "\n",
        "plt.show()"
      ],
      "execution_count": 137,
      "outputs": [
        {
          "output_type": "display_data",
          "data": {
            "image/png": "[encoded data removed]",
            "text/plain": [
              "<Figure size 1080x216 with 2 Axes>"
            ]
          },
          "metadata": {
            "tags": [],
            "needs_background": "light"
          }
        }
      ]
    },
    {
      "cell_type": "markdown",
      "metadata": {
        "id": "KmbY9HdTI7XQ",
        "colab_type": "text"
      },
      "source": [
        "## Gompertz model"
      ]
    },
    {
      "cell_type": "code",
      "metadata": {
        "id": "dEmLYQkURxKB",
        "colab_type": "code",
        "colab": {}
      },
      "source": [
        "def Gompertz(t, theta1, theta2, theta3):\n",
        "    '''\n",
        "    theta1: The asymptote.\n",
        "    theta2: The displacement along the x-axis.\n",
        "    theta3: The growth rate.\n",
        "    '''\n",
        "    f = theta1 * np.exp(-theta2 * np.exp(-theta3 * t))\n",
        "    return f"
      ],
      "execution_count": 0,
      "outputs": []
    },
    {
      "cell_type": "markdown",
      "metadata": {
        "id": "VyInRnTlJDJH",
        "colab_type": "text"
      },
      "source": [
        "## Least squared estimation"
      ]
    },
    {
      "cell_type": "code",
      "metadata": {
        "id": "FawxmMgcRxGP",
        "colab_type": "code",
        "colab": {}
      },
      "source": [
        "popt, pcov = curve_fit(f = Gompertz, \n",
        "                       xdata = x_train, \n",
        "                       ydata = cases_train, \n",
        "                       p0 = [3 * max(cases_train), 1, 1])"
      ],
      "execution_count": 0,
      "outputs": []
    },
    {
      "cell_type": "code",
      "metadata": {
        "id": "n9h2tvdTsYSz",
        "colab_type": "code",
        "colab": {
          "base_uri": "https://localhost:8080/",
          "height": 35
        },
        "outputId": "8267514a-9633-4fd4-b11d-659efd6421c2"
      },
      "source": [
        "popt"
      ],
      "execution_count": 139,
      "outputs": [
        {
          "output_type": "execute_result",
          "data": {
            "text/plain": [
              "array([2.17305212e+05, 5.92177406e+02, 9.53981967e-02])"
            ]
          },
          "metadata": {
            "tags": []
          },
          "execution_count": 139
        }
      ]
    },
    {
      "cell_type": "code",
      "metadata": {
        "id": "vSjDHwbfsYa4",
        "colab_type": "code",
        "colab": {
          "base_uri": "https://localhost:8080/",
          "height": 69
        },
        "outputId": "c5701c19-5225-41e1-a53b-5b75fa4a2f15"
      },
      "source": [
        "pcov"
      ],
      "execution_count": 140,
      "outputs": [
        {
          "output_type": "execute_result",
          "data": {
            "text/plain": [
              "array([[ 5.37929696e+06, -1.07287532e+05, -3.15529043e+00],\n",
              "       [-1.07287532e+05,  2.52710189e+03,  7.24287084e-02],\n",
              "       [-3.15529043e+00,  7.24287084e-02,  2.08586900e-06]])"
            ]
          },
          "metadata": {
            "tags": []
          },
          "execution_count": 140
        }
      ]
    },
    {
      "cell_type": "code",
      "metadata": {
        "id": "7gVNmYpWsYYw",
        "colab_type": "code",
        "colab": {
          "base_uri": "https://localhost:8080/",
          "height": 350
        },
        "outputId": "bcdc0844-ec29-46ab-c7f4-f908c8acb7bd"
      },
      "source": [
        "plt.figure(figsize = (12, 5))\n",
        "plt.xlabel('Days')\n",
        "plt.ylabel('Comfirmed cases')\n",
        "plt.title(country)\n",
        "plt.scatter(x_train, cases_train)\n",
        "plt.plot(x_train, Gompertz(x_train, *popt), label = 'Fitting curve (train)')\n",
        "plt.plot(x_test, Gompertz(x_test, *popt), label = 'Fitting curve (test)')\n",
        "plt.axvline(x = test_start, color = 'r', linestyle = ':', label = 'test_start')\n",
        "plt.axvline(x = train_end, color = 'b', linestyle = ':', label = 'train_end')\n",
        "plt.legend()\n",
        "\n",
        "plt.show()"
      ],
      "execution_count": 141,
      "outputs": [
        {
          "output_type": "display_data",
          "data": {
            "image/png": "[encoded data removed]",
            "text/plain": [
              "<Figure size 864x360 with 1 Axes>"
            ]
          },
          "metadata": {
            "tags": [],
            "needs_background": "light"
          }
        }
      ]
    },
    {
      "cell_type": "markdown",
      "metadata": {
        "id": "gZ7UfUWgIP3p",
        "colab_type": "text"
      },
      "source": [
        "## Maximum likelihood estomator\n",
        "\n",
        "[2.7. Mathematical optimization: finding minima of functions](https://scipy-lectures.org/advanced/mathematical_optimization/index.html)\n",
        "\n",
        "[Issue recovering inverse Hessian from minimize()](https://github.com/rickecon/StructEst_W17/issues/26)\n",
        "\n",
        "'L-BFGS-B'\n",
        "\n",
        "'TNC'\n",
        "\n",
        "'SLSQP'"
      ]
    },
    {
      "cell_type": "code",
      "metadata": {
        "id": "BP6cvyQTsYXA",
        "colab_type": "code",
        "colab": {}
      },
      "source": [
        "# Minimize the negative log-lokelihood function\n",
        "from scipy.optimize import minimize\n",
        "def Gompertz_reg(x, y, sigma_2 = 1):\n",
        "    N = len(y)\n",
        "    def Gompertz(t, theta1, theta2, theta3):\n",
        "        f = theta1 * np.exp(-theta2 * np.exp(-theta3 * t))\n",
        "        return f\n",
        "\n",
        "    # Negative log-likelihood\n",
        "    def l_fun(params): \n",
        "        theta1 = np.exp(params[0])\n",
        "        theta2 = np.exp(params[1])\n",
        "        theta3 = np.exp(params[2])\n",
        "        ll = -(N/2) * np.log(2 * np.pi) - (N/2) * np.log(sigma_2) - (1/(2 * sigma_2)) * np.sum((y - Gompertz(x, theta1, theta2, theta3)) ** 2)\n",
        "        return -ll\n",
        "\n",
        "    p0 = [np.log(3 * max(y)), 0, 0]\n",
        "    res = minimize(fun = l_fun, x0 = p0, method = 'L-BFGS-B')\n",
        "    ML = -res.fun\n",
        "    DF = len(res.x)\n",
        "    V = res.hess_inv.todense()\n",
        "    # H = -np.linalg.inv(V)\n",
        "\n",
        "    # AIC, BIC, LCV\n",
        "    LCV = ML - DF\n",
        "    AIC = 2 * DF - 2 * ML\n",
        "    BIC = np.log(N) * DF - 2 * ML\n",
        "    convergence_res = {'ML': ML,\n",
        "                       'DF': DF, \n",
        "                       'LCV': LCV,\n",
        "                       'AIC': AIC, \n",
        "                       'BIC': BIC, \n",
        "                       'nfev': res.nfev, \n",
        "                       'nit': res.nit, \n",
        "                       'status': res.status}    \n",
        "\n",
        "    # Estimator\n",
        "    est = np.exp(res.x)\n",
        "\n",
        "    # Covariance matrix of estimator\n",
        "    est_var = np.matmul(np.diag(est), V)\n",
        "    est_var = np.matmul(est_var, np.diag(est))\n",
        "\n",
        "    '''\n",
        "    V = np.matmul(np.diag(1 / est), est_var)\n",
        "    V = np.matmul(V, np.diag(1 / est))\n",
        "    '''\n",
        "\n",
        "    # Estimate of parameters\n",
        "    # Estimator\n",
        "    theta1_est = est[0] \n",
        "    theta2_est = est[1]\n",
        "    theta3_est = est[2]\n",
        "\n",
        "    # Standard error\n",
        "    theta1_se = theta1_est * np.sqrt(np.diag(V)[0])\n",
        "    theta2_se = theta2_est * np.sqrt(np.diag(V)[1])\n",
        "    theta3_se = theta3_est * np.sqrt(np.diag(V)[2])\n",
        "\n",
        "    # 95% CI Lower bound\n",
        "    theta1_Lower = theta1_est * np.exp(-1.96 * np.sqrt(np.diag(V)[0]))\n",
        "    theta2_Lower = theta2_est * np.exp(-1.96 * np.sqrt(np.diag(V)[1]))\n",
        "    theta3_Lower = theta3_est * np.exp(-1.96 * np.sqrt(np.diag(V)[2]))\n",
        "\n",
        "    # 95% CI Upper bound\n",
        "    theta1_Upper = theta1_est * np.exp(1.96 * np.sqrt(np.diag(V)[0]))\n",
        "    theta2_Upper = theta2_est * np.exp(1.96 * np.sqrt(np.diag(V)[1]))\n",
        "    theta3_Upper = theta3_est * np.exp(1.96 * np.sqrt(np.diag(V)[2]))\n",
        "\n",
        "    # Results\n",
        "    # theta1\n",
        "    theta1_res = {'Estimate': theta1_est, \n",
        "                  'SE': theta1_se, \n",
        "                  'Lower': theta1_Lower, \n",
        "                  'Upper': theta1_Upper}\n",
        "    theta1_res = pd.DataFrame(theta1_res, index = [0])\n",
        "\n",
        "    # theta2\n",
        "    theta2_res = {'Estimate': theta2_est, \n",
        "                  'SE': theta2_se, \n",
        "                  'Lower': theta2_Lower, \n",
        "                  'Upper': theta2_Upper}\n",
        "    theta2_res = pd.DataFrame(theta2_res, index = [0])\n",
        "\n",
        "    # theta3\n",
        "    theta3_res = {'Estimate': theta3_est, \n",
        "                  'SE': theta3_se, \n",
        "                  'Lower': theta3_Lower, \n",
        "                  'Upper': theta3_Upper}\n",
        "    theta3_res = pd.DataFrame(theta3_res, index = [0])\n",
        "\n",
        "    return est, est_var, theta1_res, theta2_res, theta3_res, convergence_res"
      ],
      "execution_count": 0,
      "outputs": []
    },
    {
      "cell_type": "code",
      "metadata": {
        "id": "HThuh7y20g57",
        "colab_type": "code",
        "colab": {
          "base_uri": "https://localhost:8080/",
          "height": 156
        },
        "outputId": "e9d492f2-c338-475f-a912-6ddd2d8dd751"
      },
      "source": [
        "est, est_var, theta1_res, theta2_res, theta3_res, convergence_res = \\\n",
        "Gompertz_reg(x = x_train, y = cases_train, sigma_2 = 1)\n",
        "convergence_res"
      ],
      "execution_count": 142,
      "outputs": [
        {
          "output_type": "execute_result",
          "data": {
            "text/plain": [
              "{'AIC': 93493400.11795552,\n",
              " 'BIC': 93493407.37447734,\n",
              " 'DF': 3,\n",
              " 'LCV': -46746700.05897776,\n",
              " 'ML': -46746697.05897776,\n",
              " 'nfev': 288,\n",
              " 'nit': 49,\n",
              " 'status': 0}"
            ]
          },
          "metadata": {
            "tags": []
          },
          "execution_count": 142
        }
      ]
    },
    {
      "cell_type": "code",
      "metadata": {
        "id": "YauT3jea0g3I",
        "colab_type": "code",
        "colab": {
          "base_uri": "https://localhost:8080/",
          "height": 35
        },
        "outputId": "50559f85-05dc-480b-898e-3653b4e53d34"
      },
      "source": [
        "est"
      ],
      "execution_count": 143,
      "outputs": [
        {
          "output_type": "execute_result",
          "data": {
            "text/plain": [
              "array([2.17305953e+05, 5.92160414e+02, 9.53977071e-02])"
            ]
          },
          "metadata": {
            "tags": []
          },
          "execution_count": 143
        }
      ]
    },
    {
      "cell_type": "code",
      "metadata": {
        "id": "iZ5yVvr60g0e",
        "colab_type": "code",
        "colab": {
          "base_uri": "https://localhost:8080/",
          "height": 35
        },
        "outputId": "d42d07ce-cb11-492c-8180-8a89b0714f2b"
      },
      "source": [
        "popt"
      ],
      "execution_count": 144,
      "outputs": [
        {
          "output_type": "execute_result",
          "data": {
            "text/plain": [
              "array([2.17305212e+05, 5.92177406e+02, 9.53981967e-02])"
            ]
          },
          "metadata": {
            "tags": []
          },
          "execution_count": 144
        }
      ]
    },
    {
      "cell_type": "code",
      "metadata": {
        "id": "DTWIpr1C0gwp",
        "colab_type": "code",
        "colab": {
          "base_uri": "https://localhost:8080/",
          "height": 350
        },
        "outputId": "c25f341a-39cc-4c68-dd0e-5779bccacff4"
      },
      "source": [
        "plt.figure(figsize = (12, 5))\n",
        "plt.xlabel('Days')\n",
        "plt.ylabel('Comfirmed cases')\n",
        "plt.title(country)\n",
        "plt.scatter(x_train, cases_train, color = 'r')\n",
        "plt.plot(x_train, Gompertz(x_train, *est), label = 'Fitting curve (train)')\n",
        "plt.plot(x_test, Gompertz(x_test, *est), label = 'Fitting curve (test)')\n",
        "plt.axvline(x = test_start, color = 'r', linestyle = ':', label = 'test_start = %.f' % (test_start))\n",
        "plt.axvline(x = train_end, color = 'b', linestyle = ':', label = 'train_end = %.f' % (train_end))\n",
        "plt.legend()\n",
        "plt.show()"
      ],
      "execution_count": 145,
      "outputs": [
        {
          "output_type": "display_data",
          "data": {
            "image/png": "[encoded data removed]",
            "text/plain": [
              "<Figure size 864x360 with 1 Axes>"
            ]
          },
          "metadata": {
            "tags": [],
            "needs_background": "light"
          }
        }
      ]
    },
    {
      "cell_type": "markdown",
      "metadata": {
        "id": "T0UZTBAGEaft",
        "colab_type": "text"
      },
      "source": [
        "## Monte Carlo simulation\n",
        "\n",
        "[scipy.stats.multivariate_normal raising **LinAlgError: singular matrix** even though my covariance matrix is invertible](https://stackoverflow.com/questions/35273908/scipy-stats-multivariate-normal-raising-linalgerror-singular-matrix-even-thou)"
      ]
    },
    {
      "cell_type": "code",
      "metadata": {
        "id": "kf0oo9gk0gtM",
        "colab_type": "code",
        "colab": {}
      },
      "source": [
        "from scipy.stats import multivariate_normal\n",
        "def curve_predict(time, est, est_var):\n",
        "    t = time\n",
        "    V = np.diag(1/est) @ est_var @ np.diag(1/est)\n",
        "    est_tilde = np.log(est)\n",
        "\n",
        "    def est_fun(params): \n",
        "        theta1 = params[0]\n",
        "        theta2 = params[1]\n",
        "        theta3 = params[2]\n",
        "        return Gompertz(t, theta1, theta2, theta3)\n",
        "\n",
        "    try:\n",
        "        rv = multivariate_normal(mean = est_tilde, cov = V, allow_singular = True)\n",
        "    except: \n",
        "        print(\"矩陣不存在反矩陣\")\n",
        "\n",
        "    est_tilde_samples = rv.rvs(size = 1000)\n",
        "    est_samples = np.exp(est_tilde_samples)\n",
        "    est_fun_hat = np.array([est_fun(ii) for ii in est_samples])\n",
        "\n",
        "    Estimate = est_fun(est)\n",
        "    SE = est_fun_hat.std(axis = 0)\n",
        "    Lower = np.quantile(a = est_fun_hat, q = 0.025, axis = 0)\n",
        "    Upper = np.quantile(a = est_fun_hat, q = 0.975, axis = 0)\n",
        "\n",
        "    result = pd.DataFrame({'Time': t, \n",
        "                           'Estimate': Estimate, \n",
        "                           'SE': SE, \n",
        "                           'Lower': Lower, \n",
        "                           'Upper': Upper})\n",
        "    return result"
      ],
      "execution_count": 0,
      "outputs": []
    },
    {
      "cell_type": "markdown",
      "metadata": {
        "id": "uNxQNidBzwTF",
        "colab_type": "text"
      },
      "source": [
        "## Delta method\n",
        "\n",
        "[AttributeError: 'ArrayBox' object has no attribute 'exp'](https://github.com/HIPS/autograd/issues/416)\n",
        "\n",
        "[numpy.dot](https://docs.scipy.org/doc/numpy/reference/generated/numpy.dot.html)"
      ]
    },
    {
      "cell_type": "code",
      "metadata": {
        "id": "Ofu07xaO9cWx",
        "colab_type": "code",
        "colab": {}
      },
      "source": [
        "import autograd.numpy as np\n",
        "from autograd import jacobian\n",
        "\n",
        "def curve_predict(time, est, est_var):\n",
        "    t = time\n",
        "    def est_fun(params): \n",
        "        theta1 = params[0]\n",
        "        theta2 = params[1]\n",
        "        theta3 = params[2]\n",
        "        return Gompertz(t, theta1, theta2, theta3)\n",
        "\n",
        "    '''\n",
        "    # f1\n",
        "    np.exp(-est[1] * np.exp(-est[2] * t))\n",
        "    # f2\n",
        "    -est[0] * np.exp(-est[1] * np.exp(-est[2] * t) - est[2] * t)\n",
        "    # f3\n",
        "    est[0] * est[1] * t * np.exp(-est[1] * np.exp(-est[2] * t) - est[2] * t)\n",
        "    '''\n",
        "    \n",
        "    J = jacobian(est_fun)(est)\n",
        "    V = np.diag(J @ est_var @ J.transpose())\n",
        "\n",
        "    Estimate = est_fun(est)\n",
        "    SE = np.sqrt(V)\n",
        "    Lower = Estimate - 1.96 * SE\n",
        "    Upper = Estimate + 1.96 * SE\n",
        "\n",
        "    result = pd.DataFrame({'Time': t, \n",
        "                           'Estimate': Estimate, \n",
        "                           'SE': SE, \n",
        "                           'Lower': Lower, \n",
        "                           'Upper': Upper})\n",
        "    return result"
      ],
      "execution_count": 0,
      "outputs": []
    },
    {
      "cell_type": "code",
      "metadata": {
        "id": "7mFd80s3sYQj",
        "colab_type": "code",
        "colab": {
          "base_uri": "https://localhost:8080/",
          "height": 415
        },
        "outputId": "2db12409-3bcc-49ff-ced8-46012010d840"
      },
      "source": [
        "result = curve_predict(time = np.arange(0, 113), est = est, est_var = est_var)\n",
        "result"
      ],
      "execution_count": 152,
      "outputs": [
        {
          "output_type": "execute_result",
          "data": {
            "text/html": [
              "<div>\n",
              "<style scoped>\n",
              "    .dataframe tbody tr th:only-of-type {\n",
              "        vertical-align: middle;\n",
              "    }\n",
              "\n",
              "    .dataframe tbody tr th {\n",
              "        vertical-align: top;\n",
              "    }\n",
              "\n",
              "    .dataframe thead th {\n",
              "        text-align: right;\n",
              "    }\n",
              "</style>\n",
              "<table border=\"1\" class=\"dataframe\">\n",
              "  <thead>\n",
              "    <tr style=\"text-align: right;\">\n",
              "      <th></th>\n",
              "      <th>Time</th>\n",
              "      <th>Estimate</th>\n",
              "      <th>SE</th>\n",
              "      <th>Lower</th>\n",
              "      <th>Upper</th>\n",
              "    </tr>\n",
              "  </thead>\n",
              "  <tbody>\n",
              "    <tr>\n",
              "      <th>0</th>\n",
              "      <td>0</td>\n",
              "      <td>1.462418e-252</td>\n",
              "      <td>1.185900e+06</td>\n",
              "      <td>0.000000</td>\n",
              "      <td>4.095225e+06</td>\n",
              "    </tr>\n",
              "    <tr>\n",
              "      <th>1</th>\n",
              "      <td>1</td>\n",
              "      <td>3.671187e-229</td>\n",
              "      <td>1.185938e+06</td>\n",
              "      <td>0.000000</td>\n",
              "      <td>4.095229e+06</td>\n",
              "    </tr>\n",
              "    <tr>\n",
              "      <th>2</th>\n",
              "      <td>2</td>\n",
              "      <td>6.845909e-208</td>\n",
              "      <td>1.185974e+06</td>\n",
              "      <td>0.000000</td>\n",
              "      <td>4.095233e+06</td>\n",
              "    </tr>\n",
              "    <tr>\n",
              "      <th>3</th>\n",
              "      <td>3</td>\n",
              "      <td>1.481392e-188</td>\n",
              "      <td>1.186009e+06</td>\n",
              "      <td>0.000000</td>\n",
              "      <td>4.095237e+06</td>\n",
              "    </tr>\n",
              "    <tr>\n",
              "      <th>4</th>\n",
              "      <td>4</td>\n",
              "      <td>5.579839e-171</td>\n",
              "      <td>1.186042e+06</td>\n",
              "      <td>0.000000</td>\n",
              "      <td>4.095240e+06</td>\n",
              "    </tr>\n",
              "    <tr>\n",
              "      <th>...</th>\n",
              "      <td>...</td>\n",
              "      <td>...</td>\n",
              "      <td>...</td>\n",
              "      <td>...</td>\n",
              "      <td>...</td>\n",
              "    </tr>\n",
              "    <tr>\n",
              "      <th>108</th>\n",
              "      <td>108</td>\n",
              "      <td>2.130334e+05</td>\n",
              "      <td>1.149168e+06</td>\n",
              "      <td>13516.267435</td>\n",
              "      <td>4.095554e+06</td>\n",
              "    </tr>\n",
              "    <tr>\n",
              "      <th>109</th>\n",
              "      <td>109</td>\n",
              "      <td>2.134186e+05</td>\n",
              "      <td>1.149105e+06</td>\n",
              "      <td>13516.267435</td>\n",
              "      <td>4.095556e+06</td>\n",
              "    </tr>\n",
              "    <tr>\n",
              "      <th>110</th>\n",
              "      <td>110</td>\n",
              "      <td>2.137694e+05</td>\n",
              "      <td>1.149046e+06</td>\n",
              "      <td>13516.267435</td>\n",
              "      <td>4.095559e+06</td>\n",
              "    </tr>\n",
              "    <tr>\n",
              "      <th>111</th>\n",
              "      <td>111</td>\n",
              "      <td>2.140888e+05</td>\n",
              "      <td>1.148992e+06</td>\n",
              "      <td>13516.267435</td>\n",
              "      <td>4.095561e+06</td>\n",
              "    </tr>\n",
              "    <tr>\n",
              "      <th>112</th>\n",
              "      <td>112</td>\n",
              "      <td>2.143796e+05</td>\n",
              "      <td>1.148943e+06</td>\n",
              "      <td>13516.267435</td>\n",
              "      <td>4.095563e+06</td>\n",
              "    </tr>\n",
              "  </tbody>\n",
              "</table>\n",
              "<p>113 rows × 5 columns</p>\n",
              "</div>"
            ],
            "text/plain": [
              "     Time       Estimate            SE         Lower         Upper\n",
              "0       0  1.462418e-252  1.185900e+06      0.000000  4.095225e+06\n",
              "1       1  3.671187e-229  1.185938e+06      0.000000  4.095229e+06\n",
              "2       2  6.845909e-208  1.185974e+06      0.000000  4.095233e+06\n",
              "3       3  1.481392e-188  1.186009e+06      0.000000  4.095237e+06\n",
              "4       4  5.579839e-171  1.186042e+06      0.000000  4.095240e+06\n",
              "..    ...            ...           ...           ...           ...\n",
              "108   108   2.130334e+05  1.149168e+06  13516.267435  4.095554e+06\n",
              "109   109   2.134186e+05  1.149105e+06  13516.267435  4.095556e+06\n",
              "110   110   2.137694e+05  1.149046e+06  13516.267435  4.095559e+06\n",
              "111   111   2.140888e+05  1.148992e+06  13516.267435  4.095561e+06\n",
              "112   112   2.143796e+05  1.148943e+06  13516.267435  4.095563e+06\n",
              "\n",
              "[113 rows x 5 columns]"
            ]
          },
          "metadata": {
            "tags": []
          },
          "execution_count": 152
        }
      ]
    },
    {
      "cell_type": "code",
      "metadata": {
        "id": "AqW_7sBoDu2X",
        "colab_type": "code",
        "colab": {
          "base_uri": "https://localhost:8080/",
          "height": 350
        },
        "outputId": "70f912ec-7833-410a-87b5-0a8b05ba266a"
      },
      "source": [
        "Time = result.Time.values\n",
        "y_hat = result.Estimate.values\n",
        "y_lower = result.Lower.values\n",
        "y_upper = result.Upper.values\n",
        "y_se = result.SE.values\n",
        "\n",
        "plt.figure(figsize = (12, 5))\n",
        "plt.xlabel('Days')\n",
        "plt.ylabel('Comfirmed cases')\n",
        "plt.title(country)\n",
        "plt.scatter(x_train, cases_train, color = 'r')\n",
        "plt.plot(Time, y_hat, color = 'g', label = 'Fitting curve')\n",
        "plt.plot(Time, y_lower, color = 'g', linestyle = '--', label = 'lower')\n",
        "plt.plot(Time, y_upper, color = 'g', linestyle = '--', label = 'upper')\n",
        "plt.axvline(x = test_start, color = 'r', linestyle = ':', label = 'test_start = %.f' % (test_start))\n",
        "plt.axvline(x = train_end, color = 'b', linestyle = ':', label = 'train_end = %.f' % (train_end))\n",
        "plt.legend()\n",
        "plt.show()"
      ],
      "execution_count": 153,
      "outputs": [
        {
          "output_type": "display_data",
          "data": {
            "image/png": "[encoded data removed]",
            "text/plain": [
              "<Figure size 864x360 with 1 Axes>"
            ]
          },
          "metadata": {
            "tags": [],
            "needs_background": "light"
          }
        }
      ]
    },
    {
      "cell_type": "markdown",
      "metadata": {
        "id": "lQSdra1jJYxo",
        "colab_type": "text"
      },
      "source": [
        "## Note"
      ]
    },
    {
      "cell_type": "code",
      "metadata": {
        "trusted": true,
        "id": "WI-a50JwHsNt",
        "colab_type": "code",
        "colab": {}
      },
      "source": [
        "train = train_dataset.groupby('Date').agg('sum').reset_index()\n",
        "train['Date']= pd.to_datetime(train['Date'])"
      ],
      "execution_count": 0,
      "outputs": []
    },
    {
      "cell_type": "code",
      "metadata": {
        "trusted": true,
        "id": "JKKxsMsZHsNv",
        "colab_type": "code",
        "outputId": "4cbc7c1f-14b4-4639-d226-cfdb38d6962f",
        "colab": {
          "base_uri": "https://localhost:8080/",
          "height": 355
        }
      },
      "source": [
        "train.head(10)"
      ],
      "execution_count": 0,
      "outputs": [
        {
          "output_type": "execute_result",
          "data": {
            "text/html": [
              "<div>\n",
              "<style scoped>\n",
              "    .dataframe tbody tr th:only-of-type {\n",
              "        vertical-align: middle;\n",
              "    }\n",
              "\n",
              "    .dataframe tbody tr th {\n",
              "        vertical-align: top;\n",
              "    }\n",
              "\n",
              "    .dataframe thead th {\n",
              "        text-align: right;\n",
              "    }\n",
              "</style>\n",
              "<table border=\"1\" class=\"dataframe\">\n",
              "  <thead>\n",
              "    <tr style=\"text-align: right;\">\n",
              "      <th></th>\n",
              "      <th>Date</th>\n",
              "      <th>Id</th>\n",
              "      <th>ConfirmedCases</th>\n",
              "      <th>Fatalities</th>\n",
              "    </tr>\n",
              "  </thead>\n",
              "  <tbody>\n",
              "    <tr>\n",
              "      <th>0</th>\n",
              "      <td>2020-01-22</td>\n",
              "      <td>5566705</td>\n",
              "      <td>554.0</td>\n",
              "      <td>17.0</td>\n",
              "    </tr>\n",
              "    <tr>\n",
              "      <th>1</th>\n",
              "      <td>2020-01-23</td>\n",
              "      <td>5567018</td>\n",
              "      <td>653.0</td>\n",
              "      <td>18.0</td>\n",
              "    </tr>\n",
              "    <tr>\n",
              "      <th>2</th>\n",
              "      <td>2020-01-24</td>\n",
              "      <td>5567331</td>\n",
              "      <td>939.0</td>\n",
              "      <td>26.0</td>\n",
              "    </tr>\n",
              "    <tr>\n",
              "      <th>3</th>\n",
              "      <td>2020-01-25</td>\n",
              "      <td>5567644</td>\n",
              "      <td>1432.0</td>\n",
              "      <td>42.0</td>\n",
              "    </tr>\n",
              "    <tr>\n",
              "      <th>4</th>\n",
              "      <td>2020-01-26</td>\n",
              "      <td>5567957</td>\n",
              "      <td>2113.0</td>\n",
              "      <td>56.0</td>\n",
              "    </tr>\n",
              "    <tr>\n",
              "      <th>5</th>\n",
              "      <td>2020-01-27</td>\n",
              "      <td>5568270</td>\n",
              "      <td>2922.0</td>\n",
              "      <td>82.0</td>\n",
              "    </tr>\n",
              "    <tr>\n",
              "      <th>6</th>\n",
              "      <td>2020-01-28</td>\n",
              "      <td>5568583</td>\n",
              "      <td>5573.0</td>\n",
              "      <td>131.0</td>\n",
              "    </tr>\n",
              "    <tr>\n",
              "      <th>7</th>\n",
              "      <td>2020-01-29</td>\n",
              "      <td>5568896</td>\n",
              "      <td>6161.0</td>\n",
              "      <td>133.0</td>\n",
              "    </tr>\n",
              "    <tr>\n",
              "      <th>8</th>\n",
              "      <td>2020-01-30</td>\n",
              "      <td>5569209</td>\n",
              "      <td>8229.0</td>\n",
              "      <td>171.0</td>\n",
              "    </tr>\n",
              "    <tr>\n",
              "      <th>9</th>\n",
              "      <td>2020-01-31</td>\n",
              "      <td>5569522</td>\n",
              "      <td>9920.0</td>\n",
              "      <td>213.0</td>\n",
              "    </tr>\n",
              "  </tbody>\n",
              "</table>\n",
              "</div>"
            ],
            "text/plain": [
              "        Date       Id  ConfirmedCases  Fatalities\n",
              "0 2020-01-22  5566705           554.0        17.0\n",
              "1 2020-01-23  5567018           653.0        18.0\n",
              "2 2020-01-24  5567331           939.0        26.0\n",
              "3 2020-01-25  5567644          1432.0        42.0\n",
              "4 2020-01-26  5567957          2113.0        56.0\n",
              "5 2020-01-27  5568270          2922.0        82.0\n",
              "6 2020-01-28  5568583          5573.0       131.0\n",
              "7 2020-01-29  5568896          6161.0       133.0\n",
              "8 2020-01-30  5569209          8229.0       171.0\n",
              "9 2020-01-31  5569522          9920.0       213.0"
            ]
          },
          "metadata": {
            "tags": []
          },
          "execution_count": 97
        }
      ]
    },
    {
      "cell_type": "code",
      "metadata": {
        "trusted": true,
        "id": "dvING3UCHsNx",
        "colab_type": "code",
        "outputId": "dde2dd84-e484-4d62-bdd9-a8afb2f1cf34",
        "colab": {
          "base_uri": "https://localhost:8080/",
          "height": 276
        }
      },
      "source": [
        "CC = train['ConfirmedCases']\n",
        "Fa = train['Fatalities']\n",
        "\n",
        "plt.figure()\n",
        "plt.plot(CC, label = 'Confirmed Cases')\n",
        "plt.plot(Fa, label = 'Fatalities')\n",
        "plt.legend()\n",
        "plt.show()"
      ],
      "execution_count": 0,
      "outputs": [
        {
          "output_type": "display_data",
          "data": {
            "image/png": "[encoded data removed]",
            "text/plain": [
              "<Figure size 432x288 with 1 Axes>"
            ]
          },
          "metadata": {
            "tags": [],
            "needs_background": "light"
          }
        }
      ]
    },
    {
      "cell_type": "code",
      "metadata": {
        "trusted": true,
        "id": "H1bYTau7HsN4",
        "colab_type": "code",
        "outputId": "ce5eda29-3c71-4e8b-9aa1-0c8883722c57",
        "colab": {
          "base_uri": "https://localhost:8080/",
          "height": 415
        }
      },
      "source": [
        "China_cases = train_dataset[train_dataset['Country_Region'] == 'China'].groupby('Date').sum().reset_index()\n",
        "US_cases = train_dataset[train_dataset['Country_Region'] == 'US'].groupby('Date').sum().reset_index()\n",
        "Japan_cases = train_dataset[train_dataset['Country_Region'] == 'Japan'].groupby('Date').sum().reset_index()\n",
        "Italy_cases = train_dataset[train_dataset['Country_Region'] == 'Italy'].groupby('Date').sum().reset_index()\n",
        "Iran_cases = train_dataset[train_dataset['Country_Region'] == 'Iran'].groupby('Date').sum().reset_index()\n",
        "Spain_cases = train_dataset[train_dataset['Country_Region'] == 'Spain'].groupby('Date').sum().reset_index()\n",
        "China_cases"
      ],
      "execution_count": 0,
      "outputs": [
        {
          "output_type": "execute_result",
          "data": {
            "text/html": [
              "<div>\n",
              "<style scoped>\n",
              "    .dataframe tbody tr th:only-of-type {\n",
              "        vertical-align: middle;\n",
              "    }\n",
              "\n",
              "    .dataframe tbody tr th {\n",
              "        vertical-align: top;\n",
              "    }\n",
              "\n",
              "    .dataframe thead th {\n",
              "        text-align: right;\n",
              "    }\n",
              "</style>\n",
              "<table border=\"1\" class=\"dataframe\">\n",
              "  <thead>\n",
              "    <tr style=\"text-align: right;\">\n",
              "      <th></th>\n",
              "      <th>Date</th>\n",
              "      <th>Id</th>\n",
              "      <th>ConfirmedCases</th>\n",
              "      <th>Fatalities</th>\n",
              "    </tr>\n",
              "  </thead>\n",
              "  <tbody>\n",
              "    <tr>\n",
              "      <th>0</th>\n",
              "      <td>2020-01-22</td>\n",
              "      <td>263373</td>\n",
              "      <td>548.0</td>\n",
              "      <td>17.0</td>\n",
              "    </tr>\n",
              "    <tr>\n",
              "      <th>1</th>\n",
              "      <td>2020-01-23</td>\n",
              "      <td>263406</td>\n",
              "      <td>643.0</td>\n",
              "      <td>18.0</td>\n",
              "    </tr>\n",
              "    <tr>\n",
              "      <th>2</th>\n",
              "      <td>2020-01-24</td>\n",
              "      <td>263439</td>\n",
              "      <td>920.0</td>\n",
              "      <td>26.0</td>\n",
              "    </tr>\n",
              "    <tr>\n",
              "      <th>3</th>\n",
              "      <td>2020-01-25</td>\n",
              "      <td>263472</td>\n",
              "      <td>1406.0</td>\n",
              "      <td>42.0</td>\n",
              "    </tr>\n",
              "    <tr>\n",
              "      <th>4</th>\n",
              "      <td>2020-01-26</td>\n",
              "      <td>263505</td>\n",
              "      <td>2075.0</td>\n",
              "      <td>56.0</td>\n",
              "    </tr>\n",
              "    <tr>\n",
              "      <th>...</th>\n",
              "      <td>...</td>\n",
              "      <td>...</td>\n",
              "      <td>...</td>\n",
              "      <td>...</td>\n",
              "    </tr>\n",
              "    <tr>\n",
              "      <th>78</th>\n",
              "      <td>2020-04-09</td>\n",
              "      <td>265947</td>\n",
              "      <td>82883.0</td>\n",
              "      <td>3339.0</td>\n",
              "    </tr>\n",
              "    <tr>\n",
              "      <th>79</th>\n",
              "      <td>2020-04-10</td>\n",
              "      <td>265980</td>\n",
              "      <td>82941.0</td>\n",
              "      <td>3340.0</td>\n",
              "    </tr>\n",
              "    <tr>\n",
              "      <th>80</th>\n",
              "      <td>2020-04-11</td>\n",
              "      <td>266013</td>\n",
              "      <td>83014.0</td>\n",
              "      <td>3343.0</td>\n",
              "    </tr>\n",
              "    <tr>\n",
              "      <th>81</th>\n",
              "      <td>2020-04-12</td>\n",
              "      <td>266046</td>\n",
              "      <td>83134.0</td>\n",
              "      <td>3343.0</td>\n",
              "    </tr>\n",
              "    <tr>\n",
              "      <th>82</th>\n",
              "      <td>2020-04-13</td>\n",
              "      <td>266079</td>\n",
              "      <td>83213.0</td>\n",
              "      <td>3345.0</td>\n",
              "    </tr>\n",
              "  </tbody>\n",
              "</table>\n",
              "<p>83 rows × 4 columns</p>\n",
              "</div>"
            ],
            "text/plain": [
              "          Date      Id  ConfirmedCases  Fatalities\n",
              "0   2020-01-22  263373           548.0        17.0\n",
              "1   2020-01-23  263406           643.0        18.0\n",
              "2   2020-01-24  263439           920.0        26.0\n",
              "3   2020-01-25  263472          1406.0        42.0\n",
              "4   2020-01-26  263505          2075.0        56.0\n",
              "..         ...     ...             ...         ...\n",
              "78  2020-04-09  265947         82883.0      3339.0\n",
              "79  2020-04-10  265980         82941.0      3340.0\n",
              "80  2020-04-11  266013         83014.0      3343.0\n",
              "81  2020-04-12  266046         83134.0      3343.0\n",
              "82  2020-04-13  266079         83213.0      3345.0\n",
              "\n",
              "[83 rows x 4 columns]"
            ]
          },
          "metadata": {
            "tags": []
          },
          "execution_count": 279
        }
      ]
    },
    {
      "cell_type": "code",
      "metadata": {
        "trusted": true,
        "id": "QSZrXKzYHsN-",
        "colab_type": "code",
        "colab": {}
      },
      "source": [
        "x = np.arange(len(China_cases))\n",
        "y = China_cases['ConfirmedCases'].values"
      ],
      "execution_count": 0,
      "outputs": []
    },
    {
      "cell_type": "code",
      "metadata": {
        "trusted": true,
        "id": "3JgCoy7BHsOC",
        "colab_type": "code",
        "outputId": "51d4e8ab-8a6b-4743-f9c5-d1194e40ce34",
        "colab": {
          "base_uri": "https://localhost:8080/",
          "height": 497
        }
      },
      "source": [
        "plt.figure(figsize = (12, 8))\n",
        "plt.xlabel('Time')\n",
        "plt.ylabel('Comfirmed cases')\n",
        "# plt.ylabel('Fatalities')\n",
        "plt.scatter(x, y)\n",
        "plt.show()"
      ],
      "execution_count": 0,
      "outputs": [
        {
          "output_type": "display_data",
          "data": {
            "image/png": "[encoded data removed]",
            "text/plain": [
              "<Figure size 864x576 with 1 Axes>"
            ]
          },
          "metadata": {
            "tags": [],
            "needs_background": "light"
          }
        }
      ]
    },
    {
      "cell_type": "code",
      "metadata": {
        "id": "kGNH6OgCYFWL",
        "colab_type": "code",
        "colab": {}
      },
      "source": [
        "def Gompertz(t, theta1, theta2, theta3):\n",
        "    f = theta1 * np.exp(-theta2 * np.exp(-theta3 * t))\n",
        "    return f"
      ],
      "execution_count": 0,
      "outputs": []
    },
    {
      "cell_type": "code",
      "metadata": {
        "id": "GJpnF9jPYgJK",
        "colab_type": "code",
        "outputId": "52265af2-73f6-4a81-b3fa-2cc79da63e13",
        "colab": {
          "base_uri": "https://localhost:8080/",
          "height": 483
        }
      },
      "source": [
        "def Gompertz(t, theta1, theta2, theta3, t0):\n",
        "    f = theta1 * np.exp(-theta2 * np.exp(-theta3 * (t - t0)))\n",
        "    return f\n",
        "    \n",
        "x = np.linspace(start = -2, stop = 5, num = 50)\n",
        "y1 = Gompertz(x, theta1 = 5, theta2 = 1, theta3 = 1, t0 = -1)\n",
        "y2 = Gompertz(x, theta1 = 5, theta2 = 1, theta3 = 1, t0 = 1)\n",
        "y3 = Gompertz(x, theta1 = 5, theta2 = 1, theta3 = 1, t0 = 2)\n",
        "\n",
        "plt.figure(figsize = (12, 8))\n",
        "plt.plot(x, y1, label = 'y1')\n",
        "plt.plot(x, y2, label = 'y2')\n",
        "plt.plot(x, y3, label = 'y3')\n",
        "plt.legend()\n",
        "plt.grid()\n",
        "plt.show()"
      ],
      "execution_count": 0,
      "outputs": [
        {
          "output_type": "display_data",
          "data": {
            "image/png": "[encoded data removed]",
            "text/plain": [
              "<Figure size 864x576 with 1 Axes>"
            ]
          },
          "metadata": {
            "tags": [],
            "needs_background": "light"
          }
        }
      ]
    }
  ]
}