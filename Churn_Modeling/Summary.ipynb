{
 "cells": [
  {
   "cell_type": "markdown",
   "metadata": {},
   "source": [
    "# Summary"
   ]
  },
  {
   "cell_type": "markdown",
   "metadata": {},
   "source": [
    "# Churn_Modelling\n",
    "#### Reference: https://www.kaggle.com/aakash50897/churn-modellingcsv"
   ]
  },
  {
   "cell_type": "code",
   "execution_count": 1,
   "metadata": {},
   "outputs": [
    {
     "data": {
      "text/html": [
       "<div>\n",
       "<style scoped>\n",
       "    .dataframe tbody tr th:only-of-type {\n",
       "        vertical-align: middle;\n",
       "    }\n",
       "\n",
       "    .dataframe tbody tr th {\n",
       "        vertical-align: top;\n",
       "    }\n",
       "\n",
       "    .dataframe thead th {\n",
       "        text-align: right;\n",
       "    }\n",
       "</style>\n",
       "<table border=\"1\" class=\"dataframe\">\n",
       "  <thead>\n",
       "    <tr style=\"text-align: right;\">\n",
       "      <th></th>\n",
       "      <th>RowNumber</th>\n",
       "      <th>CustomerId</th>\n",
       "      <th>Surname</th>\n",
       "      <th>CreditScore</th>\n",
       "      <th>Geography</th>\n",
       "      <th>Gender</th>\n",
       "      <th>Age</th>\n",
       "      <th>Tenure</th>\n",
       "      <th>Balance</th>\n",
       "      <th>NumOfProducts</th>\n",
       "      <th>HasCrCard</th>\n",
       "      <th>IsActiveMember</th>\n",
       "      <th>EstimatedSalary</th>\n",
       "      <th>Exited</th>\n",
       "    </tr>\n",
       "  </thead>\n",
       "  <tbody>\n",
       "    <tr>\n",
       "      <th>0</th>\n",
       "      <td>1</td>\n",
       "      <td>15634602</td>\n",
       "      <td>Hargrave</td>\n",
       "      <td>619</td>\n",
       "      <td>France</td>\n",
       "      <td>Female</td>\n",
       "      <td>42</td>\n",
       "      <td>2</td>\n",
       "      <td>0.00</td>\n",
       "      <td>1</td>\n",
       "      <td>1</td>\n",
       "      <td>1</td>\n",
       "      <td>101348.88</td>\n",
       "      <td>1</td>\n",
       "    </tr>\n",
       "    <tr>\n",
       "      <th>1</th>\n",
       "      <td>2</td>\n",
       "      <td>15647311</td>\n",
       "      <td>Hill</td>\n",
       "      <td>608</td>\n",
       "      <td>Spain</td>\n",
       "      <td>Female</td>\n",
       "      <td>41</td>\n",
       "      <td>1</td>\n",
       "      <td>83807.86</td>\n",
       "      <td>1</td>\n",
       "      <td>0</td>\n",
       "      <td>1</td>\n",
       "      <td>112542.58</td>\n",
       "      <td>0</td>\n",
       "    </tr>\n",
       "    <tr>\n",
       "      <th>2</th>\n",
       "      <td>3</td>\n",
       "      <td>15619304</td>\n",
       "      <td>Onio</td>\n",
       "      <td>502</td>\n",
       "      <td>France</td>\n",
       "      <td>Female</td>\n",
       "      <td>42</td>\n",
       "      <td>8</td>\n",
       "      <td>159660.80</td>\n",
       "      <td>3</td>\n",
       "      <td>1</td>\n",
       "      <td>0</td>\n",
       "      <td>113931.57</td>\n",
       "      <td>1</td>\n",
       "    </tr>\n",
       "    <tr>\n",
       "      <th>3</th>\n",
       "      <td>4</td>\n",
       "      <td>15701354</td>\n",
       "      <td>Boni</td>\n",
       "      <td>699</td>\n",
       "      <td>France</td>\n",
       "      <td>Female</td>\n",
       "      <td>39</td>\n",
       "      <td>1</td>\n",
       "      <td>0.00</td>\n",
       "      <td>2</td>\n",
       "      <td>0</td>\n",
       "      <td>0</td>\n",
       "      <td>93826.63</td>\n",
       "      <td>0</td>\n",
       "    </tr>\n",
       "    <tr>\n",
       "      <th>4</th>\n",
       "      <td>5</td>\n",
       "      <td>15737888</td>\n",
       "      <td>Mitchell</td>\n",
       "      <td>850</td>\n",
       "      <td>Spain</td>\n",
       "      <td>Female</td>\n",
       "      <td>43</td>\n",
       "      <td>2</td>\n",
       "      <td>125510.82</td>\n",
       "      <td>1</td>\n",
       "      <td>1</td>\n",
       "      <td>1</td>\n",
       "      <td>79084.10</td>\n",
       "      <td>0</td>\n",
       "    </tr>\n",
       "    <tr>\n",
       "      <th>5</th>\n",
       "      <td>6</td>\n",
       "      <td>15574012</td>\n",
       "      <td>Chu</td>\n",
       "      <td>645</td>\n",
       "      <td>Spain</td>\n",
       "      <td>Male</td>\n",
       "      <td>44</td>\n",
       "      <td>8</td>\n",
       "      <td>113755.78</td>\n",
       "      <td>2</td>\n",
       "      <td>1</td>\n",
       "      <td>0</td>\n",
       "      <td>149756.71</td>\n",
       "      <td>1</td>\n",
       "    </tr>\n",
       "    <tr>\n",
       "      <th>6</th>\n",
       "      <td>7</td>\n",
       "      <td>15592531</td>\n",
       "      <td>Bartlett</td>\n",
       "      <td>822</td>\n",
       "      <td>France</td>\n",
       "      <td>Male</td>\n",
       "      <td>50</td>\n",
       "      <td>7</td>\n",
       "      <td>0.00</td>\n",
       "      <td>2</td>\n",
       "      <td>1</td>\n",
       "      <td>1</td>\n",
       "      <td>10062.80</td>\n",
       "      <td>0</td>\n",
       "    </tr>\n",
       "    <tr>\n",
       "      <th>7</th>\n",
       "      <td>8</td>\n",
       "      <td>15656148</td>\n",
       "      <td>Obinna</td>\n",
       "      <td>376</td>\n",
       "      <td>Germany</td>\n",
       "      <td>Female</td>\n",
       "      <td>29</td>\n",
       "      <td>4</td>\n",
       "      <td>115046.74</td>\n",
       "      <td>4</td>\n",
       "      <td>1</td>\n",
       "      <td>0</td>\n",
       "      <td>119346.88</td>\n",
       "      <td>1</td>\n",
       "    </tr>\n",
       "    <tr>\n",
       "      <th>8</th>\n",
       "      <td>9</td>\n",
       "      <td>15792365</td>\n",
       "      <td>He</td>\n",
       "      <td>501</td>\n",
       "      <td>France</td>\n",
       "      <td>Male</td>\n",
       "      <td>44</td>\n",
       "      <td>4</td>\n",
       "      <td>142051.07</td>\n",
       "      <td>2</td>\n",
       "      <td>0</td>\n",
       "      <td>1</td>\n",
       "      <td>74940.50</td>\n",
       "      <td>0</td>\n",
       "    </tr>\n",
       "    <tr>\n",
       "      <th>9</th>\n",
       "      <td>10</td>\n",
       "      <td>15592389</td>\n",
       "      <td>H?</td>\n",
       "      <td>684</td>\n",
       "      <td>France</td>\n",
       "      <td>Male</td>\n",
       "      <td>27</td>\n",
       "      <td>2</td>\n",
       "      <td>134603.88</td>\n",
       "      <td>1</td>\n",
       "      <td>1</td>\n",
       "      <td>1</td>\n",
       "      <td>71725.73</td>\n",
       "      <td>0</td>\n",
       "    </tr>\n",
       "  </tbody>\n",
       "</table>\n",
       "</div>"
      ],
      "text/plain": [
       "   RowNumber  CustomerId   Surname  CreditScore Geography  Gender  Age  \\\n",
       "0          1    15634602  Hargrave          619    France  Female   42   \n",
       "1          2    15647311      Hill          608     Spain  Female   41   \n",
       "2          3    15619304      Onio          502    France  Female   42   \n",
       "3          4    15701354      Boni          699    France  Female   39   \n",
       "4          5    15737888  Mitchell          850     Spain  Female   43   \n",
       "5          6    15574012       Chu          645     Spain    Male   44   \n",
       "6          7    15592531  Bartlett          822    France    Male   50   \n",
       "7          8    15656148    Obinna          376   Germany  Female   29   \n",
       "8          9    15792365        He          501    France    Male   44   \n",
       "9         10    15592389        H?          684    France    Male   27   \n",
       "\n",
       "   Tenure    Balance  NumOfProducts  HasCrCard  IsActiveMember  \\\n",
       "0       2       0.00              1          1               1   \n",
       "1       1   83807.86              1          0               1   \n",
       "2       8  159660.80              3          1               0   \n",
       "3       1       0.00              2          0               0   \n",
       "4       2  125510.82              1          1               1   \n",
       "5       8  113755.78              2          1               0   \n",
       "6       7       0.00              2          1               1   \n",
       "7       4  115046.74              4          1               0   \n",
       "8       4  142051.07              2          0               1   \n",
       "9       2  134603.88              1          1               1   \n",
       "\n",
       "   EstimatedSalary  Exited  \n",
       "0        101348.88       1  \n",
       "1        112542.58       0  \n",
       "2        113931.57       1  \n",
       "3         93826.63       0  \n",
       "4         79084.10       0  \n",
       "5        149756.71       1  \n",
       "6         10062.80       0  \n",
       "7        119346.88       1  \n",
       "8         74940.50       0  \n",
       "9         71725.73       0  "
      ]
     },
     "execution_count": 1,
     "metadata": {},
     "output_type": "execute_result"
    }
   ],
   "source": [
    "# Importing Libraries\n",
    "import numpy as np\n",
    "import matplotlib.pyplot as plt\n",
    "import pandas as pd\n",
    "\n",
    "# Importing dataset\n",
    "dataset = pd.read_csv('Churn_Modelling.csv')\n",
    "X = dataset.iloc[:, 3:13].values\n",
    "y = dataset.iloc[:, 13].values\n",
    "dataset[0:10]"
   ]
  },
  {
   "cell_type": "markdown",
   "metadata": {},
   "source": [
    "## Data Preprocessing"
   ]
  },
  {
   "cell_type": "code",
   "execution_count": 2,
   "metadata": {},
   "outputs": [
    {
     "name": "stderr",
     "output_type": "stream",
     "text": [
      "C:\\Users\\Hong\\Anaconda3\\lib\\site-packages\\sklearn\\preprocessing\\_encoders.py:371: FutureWarning: The handling of integer data will change in version 0.22. Currently, the categories are determined based on the range [0, max(values)], while in the future they will be determined based on the unique values.\n",
      "If you want the future behaviour and silence this warning, you can specify \"categories='auto'\".\n",
      "In case you used a LabelEncoder before this OneHotEncoder to convert the categories to integers, then you can now use the OneHotEncoder directly.\n",
      "  warnings.warn(msg, FutureWarning)\n",
      "C:\\Users\\Hong\\Anaconda3\\lib\\site-packages\\sklearn\\preprocessing\\_encoders.py:392: DeprecationWarning: The 'categorical_features' keyword is deprecated in version 0.20 and will be removed in 0.22. You can use the ColumnTransformer instead.\n",
      "  \"use the ColumnTransformer instead.\", DeprecationWarning)\n"
     ]
    }
   ],
   "source": [
    "# Encoding categorical data\n",
    "from sklearn.preprocessing import LabelEncoder, OneHotEncoder\n",
    "labelencoder_X_1 = LabelEncoder()\n",
    "X[:, 1] = labelencoder_X_1.fit_transform(X[:, 1])\n",
    "labelencoder_X_2 = LabelEncoder()\n",
    "X[:, 2] = labelencoder_X_2.fit_transform(X[:, 2])\n",
    "onehotencoder = OneHotEncoder(categorical_features = [1])\n",
    "X = onehotencoder.fit_transform(X).toarray()\n",
    "X = X[:, 1:] # Avoiding dummy variable trap!\n",
    "\n",
    "# Splitting the dataset into the Training set and Test set\n",
    "from sklearn.model_selection import train_test_split\n",
    "X_train, X_test, y_train, y_test = train_test_split(X, y, test_size = 0.2, random_state = 0)\n",
    "\n",
    "# Feature Scaling\n",
    "from sklearn.preprocessing import StandardScaler\n",
    "sc = StandardScaler()\n",
    "X_train = sc.fit_transform(X_train)\n",
    "X_test = sc.transform(X_test)"
   ]
  },
  {
   "cell_type": "markdown",
   "metadata": {},
   "source": [
    "## Using k-fold Cross Validation to evaluate the model's performance"
   ]
  },
  {
   "cell_type": "code",
   "execution_count": 3,
   "metadata": {},
   "outputs": [],
   "source": [
    "# Applying k-fold Cross Validation\n",
    "from sklearn.model_selection import cross_val_score\n",
    "def cv_score(clf, X, y, cv):\n",
    "    accuracies = cross_val_score(estimator = clf, X = X, y = y, scoring = 'f1', cv = cv)\n",
    "    plt.plot(accuracies, '-o')\n",
    "    plt.axhline(accuracies.mean(), color = 'black', ls = '-')\n",
    "    plt.axhline(accuracies.mean() + 2 * accuracies.std(), color = 'black', ls = '--')\n",
    "    plt.axhline(accuracies.mean() - 2 * accuracies.std(), color = 'black', ls = '--')\n",
    "    plt.xlabel('CV')\n",
    "    plt.ylabel('F1 score')\n",
    "    plt.title('Classifier: ' + clf.__class__.__name__)\n",
    "    plt.show()\n",
    "    return [accuracies.mean(), accuracies.std()]"
   ]
  },
  {
   "cell_type": "markdown",
   "metadata": {},
   "source": [
    "## Making the Confusion Matrix"
   ]
  },
  {
   "cell_type": "code",
   "execution_count": 4,
   "metadata": {},
   "outputs": [],
   "source": [
    "from sklearn.metrics import confusion_matrix \n",
    "def Classification(clf, X, y):\n",
    "    X_set, y_set = X, y\n",
    "    y_hat = clf.predict(X_set)\n",
    "    y_hat = np.reshape(y_hat, -1)\n",
    "    y_hat[y_hat >= 0.5] = 1\n",
    "    y_hat[y_hat < 0.5] = 0\n",
    "    cm = confusion_matrix(y_set, y_hat)    \n",
    "    TN = cm[0, 0]\n",
    "    FN = cm[1, 0]\n",
    "    TP = cm[1, 1]\n",
    "    FP = cm[0, 1]    \n",
    "    accuracy = (TP + TN)/(TN + FN + TP + FP)\n",
    "    PPV = TP/(TP + FP) # Positive Predictive Value, Precision \n",
    "    TPR = TP/(TP + FN) # Sensitivitive, Recall    \n",
    "    TNR = TN/(TN + FP) # Specificitive\n",
    "    NPV = TN/(TN + FP) # Negative Predictive Value    \n",
    "    F1_score = 2/(1/PPV + 1/TPR)\n",
    "    summary = {'Accuracy': accuracy, \n",
    "               'Positive_Predictive_Value': PPV, \n",
    "               'Negative_Predictive_Value': NPV,            \n",
    "               'Sensitivitive': TPR, \n",
    "               'Specificitive': TNR,            \n",
    "               'F1_score': F1_score, \n",
    "               'CM': cm}\n",
    "    return summary"
   ]
  },
  {
   "cell_type": "markdown",
   "metadata": {},
   "source": [
    "## Logistic Regression"
   ]
  },
  {
   "cell_type": "code",
   "execution_count": 5,
   "metadata": {},
   "outputs": [
    {
     "data": {
      "image/png": "[encoded data removed]",
      "text/plain": [
       "<Figure size 432x288 with 1 Axes>"
      ]
     },
     "metadata": {
      "needs_background": "light"
     },
     "output_type": "display_data"
    },
    {
     "name": "stdout",
     "output_type": "stream",
     "text": [
      "Logistic Regression: CV score = 0.309 (+/- 0.082); Test set accuracy = 0.811\n"
     ]
    }
   ],
   "source": [
    "from sklearn.linear_model import LogisticRegression\n",
    "classifier = LogisticRegression(solver = 'liblinear', random_state = 0)\n",
    "Logistic_score = cv_score(clf = classifier, X = X_train, y = y_train, cv = 10)\n",
    "classifier.fit(X_train, y_train)\n",
    "Logistic_score.append(classifier.score(X_test, y_test))\n",
    "print('Logistic Regression: CV score = %0.3f (+/- %0.3f); Test set accuracy = %0.3f' % (Logistic_score[0], 2 * Logistic_score[1], Logistic_score[2]))"
   ]
  },
  {
   "cell_type": "markdown",
   "metadata": {},
   "source": [
    "### Training Set"
   ]
  },
  {
   "cell_type": "code",
   "execution_count": 6,
   "metadata": {},
   "outputs": [
    {
     "data": {
      "text/plain": [
       "{'Accuracy': 0.808625,\n",
       " 'Positive_Predictive_Value': 0.5863247863247864,\n",
       " 'Negative_Predictive_Value': 0.9619974874371859,\n",
       " 'Sensitivitive': 0.21017156862745098,\n",
       " 'Specificitive': 0.9619974874371859,\n",
       " 'F1_score': 0.30942715381145697,\n",
       " 'CM': array([[6126,  242],\n",
       "        [1289,  343]], dtype=int64)}"
      ]
     },
     "execution_count": 6,
     "metadata": {},
     "output_type": "execute_result"
    }
   ],
   "source": [
    "Classification(clf = classifier, X = X_train, y = y_train)"
   ]
  },
  {
   "cell_type": "markdown",
   "metadata": {},
   "source": [
    "### Test Set"
   ]
  },
  {
   "cell_type": "code",
   "execution_count": 7,
   "metadata": {},
   "outputs": [
    {
     "data": {
      "text/plain": [
       "{'Accuracy': 0.811,\n",
       " 'Positive_Predictive_Value': 0.5818181818181818,\n",
       " 'Negative_Predictive_Value': 0.9567398119122257,\n",
       " 'Sensitivitive': 0.23703703703703705,\n",
       " 'Specificitive': 0.9567398119122257,\n",
       " 'F1_score': 0.3368421052631579,\n",
       " 'CM': array([[1526,   69],\n",
       "        [ 309,   96]], dtype=int64)}"
      ]
     },
     "execution_count": 7,
     "metadata": {},
     "output_type": "execute_result"
    }
   ],
   "source": [
    "Classification(clf = classifier, X = X_test, y = y_test)"
   ]
  },
  {
   "cell_type": "markdown",
   "metadata": {},
   "source": [
    "## SVM"
   ]
  },
  {
   "cell_type": "code",
   "execution_count": 8,
   "metadata": {},
   "outputs": [
    {
     "data": {
      "image/png": "[encoded data removed]",
      "text/plain": [
       "<Figure size 432x288 with 1 Axes>"
      ]
     },
     "metadata": {
      "needs_background": "light"
     },
     "output_type": "display_data"
    },
    {
     "name": "stdout",
     "output_type": "stream",
     "text": [
      "SVM: CV score = 0.547 (+/- 0.093); Test set accuracy = 0.861\n"
     ]
    }
   ],
   "source": [
    "from sklearn.svm import SVC\n",
    "classifier = SVC(C = 9, kernel = 'poly', degree = 3, gamma = 'auto', random_state = 0)\n",
    "SVM_score = cv_score(clf = classifier, X = X_train, y = y_train, cv = 10)\n",
    "classifier.fit(X_train, y_train)\n",
    "SVM_score.append(classifier.score(X_test, y_test))\n",
    "print('SVM: CV score = %0.3f (+/- %0.3f); Test set accuracy = %0.3f' % (SVM_score[0], 2 * SVM_score[1], SVM_score[2]))"
   ]
  },
  {
   "cell_type": "markdown",
   "metadata": {},
   "source": [
    "### Training Set"
   ]
  },
  {
   "cell_type": "code",
   "execution_count": 9,
   "metadata": {},
   "outputs": [
    {
     "data": {
      "text/plain": [
       "{'Accuracy': 0.86875,\n",
       " 'Positive_Predictive_Value': 0.8269662921348314,\n",
       " 'Negative_Predictive_Value': 0.9758165829145728,\n",
       " 'Sensitivitive': 0.45098039215686275,\n",
       " 'Specificitive': 0.9758165829145728,\n",
       " 'F1_score': 0.5836637589214908,\n",
       " 'CM': array([[6214,  154],\n",
       "        [ 896,  736]], dtype=int64)}"
      ]
     },
     "execution_count": 9,
     "metadata": {},
     "output_type": "execute_result"
    }
   ],
   "source": [
    "Classification(clf = classifier, X = X_train, y = y_train)"
   ]
  },
  {
   "cell_type": "markdown",
   "metadata": {},
   "source": [
    "### Test Set"
   ]
  },
  {
   "cell_type": "code",
   "execution_count": 10,
   "metadata": {},
   "outputs": [
    {
     "data": {
      "text/plain": [
       "{'Accuracy': 0.8605,\n",
       " 'Positive_Predictive_Value': 0.75,\n",
       " 'Negative_Predictive_Value': 0.9605015673981191,\n",
       " 'Sensitivitive': 0.4666666666666667,\n",
       " 'Specificitive': 0.9605015673981191,\n",
       " 'F1_score': 0.5753424657534246,\n",
       " 'CM': array([[1532,   63],\n",
       "        [ 216,  189]], dtype=int64)}"
      ]
     },
     "execution_count": 10,
     "metadata": {},
     "output_type": "execute_result"
    }
   ],
   "source": [
    "Classification(clf = classifier, X = X_test, y = y_test)"
   ]
  },
  {
   "cell_type": "markdown",
   "metadata": {},
   "source": [
    "## Naive Bayes"
   ]
  },
  {
   "cell_type": "code",
   "execution_count": 11,
   "metadata": {},
   "outputs": [
    {
     "data": {
      "image/png": "[encoded data removed]",
      "text/plain": [
       "<Figure size 432x288 with 1 Axes>"
      ]
     },
     "metadata": {
      "needs_background": "light"
     },
     "output_type": "display_data"
    },
    {
     "name": "stdout",
     "output_type": "stream",
     "text": [
      "Naive Bayes: CV score = 0.435 (+/- 0.070); Test set accuracy = 0.830\n"
     ]
    }
   ],
   "source": [
    "from sklearn.naive_bayes import GaussianNB\n",
    "classifier = GaussianNB()\n",
    "NB_score = cv_score(clf = classifier, X = X_train, y = y_train, cv = 10)\n",
    "classifier.fit(X_train, y_train)\n",
    "NB_score.append(classifier.score(X_test, y_test))\n",
    "print('Naive Bayes: CV score = %0.3f (+/- %0.3f); Test set accuracy = %0.3f' % (NB_score[0], 2 * NB_score[1], NB_score[2]))"
   ]
  },
  {
   "cell_type": "markdown",
   "metadata": {},
   "source": [
    "### Training Set"
   ]
  },
  {
   "cell_type": "code",
   "execution_count": 12,
   "metadata": {},
   "outputs": [
    {
     "data": {
      "text/plain": [
       "{'Accuracy': 0.823375,\n",
       " 'Positive_Predictive_Value': 0.6212624584717608,\n",
       " 'Negative_Predictive_Value': 0.9462939698492462,\n",
       " 'Sensitivitive': 0.34375,\n",
       " 'Specificitive': 0.9462939698492462,\n",
       " 'F1_score': 0.442603550295858,\n",
       " 'CM': array([[6026,  342],\n",
       "        [1071,  561]], dtype=int64)}"
      ]
     },
     "execution_count": 12,
     "metadata": {},
     "output_type": "execute_result"
    }
   ],
   "source": [
    "Classification(clf = classifier, X = X_train, y = y_train)"
   ]
  },
  {
   "cell_type": "markdown",
   "metadata": {},
   "source": [
    "### Test Set"
   ]
  },
  {
   "cell_type": "code",
   "execution_count": 13,
   "metadata": {},
   "outputs": [
    {
     "data": {
      "text/plain": [
       "{'Accuracy': 0.8295,\n",
       " 'Positive_Predictive_Value': 0.625,\n",
       " 'Negative_Predictive_Value': 0.9398119122257054,\n",
       " 'Sensitivitive': 0.3950617283950617,\n",
       " 'Specificitive': 0.9398119122257054,\n",
       " 'F1_score': 0.4841149773071105,\n",
       " 'CM': array([[1499,   96],\n",
       "        [ 245,  160]], dtype=int64)}"
      ]
     },
     "execution_count": 13,
     "metadata": {},
     "output_type": "execute_result"
    }
   ],
   "source": [
    "Classification(clf = classifier, X = X_test, y = y_test)"
   ]
  },
  {
   "cell_type": "markdown",
   "metadata": {},
   "source": [
    "## LDA"
   ]
  },
  {
   "cell_type": "code",
   "execution_count": 14,
   "metadata": {},
   "outputs": [
    {
     "data": {
      "image/png": "[encoded data removed]",
      "text/plain": [
       "<Figure size 432x288 with 1 Axes>"
      ]
     },
     "metadata": {
      "needs_background": "light"
     },
     "output_type": "display_data"
    },
    {
     "name": "stdout",
     "output_type": "stream",
     "text": [
      "LDA: CV score = 0.326 (+/- 0.080); Test set accuracy = 0.810\n"
     ]
    }
   ],
   "source": [
    "from sklearn.discriminant_analysis import LinearDiscriminantAnalysis\n",
    "classifier = LinearDiscriminantAnalysis()\n",
    "LDA_score = cv_score(clf = classifier, X = X_train, y = y_train, cv = 10)\n",
    "classifier.fit(X_train, y_train)\n",
    "LDA_score.append(classifier.score(X_test, y_test))\n",
    "print('LDA: CV score = %0.3f (+/- %0.3f); Test set accuracy = %0.3f' % (LDA_score[0], 2 * LDA_score[1], LDA_score[2]))"
   ]
  },
  {
   "cell_type": "markdown",
   "metadata": {},
   "source": [
    "### Training Set"
   ]
  },
  {
   "cell_type": "code",
   "execution_count": 15,
   "metadata": {},
   "outputs": [
    {
     "data": {
      "text/plain": [
       "{'Accuracy': 0.80675,\n",
       " 'Positive_Predictive_Value': 0.5634218289085545,\n",
       " 'Negative_Predictive_Value': 0.9535175879396985,\n",
       " 'Sensitivitive': 0.2340686274509804,\n",
       " 'Specificitive': 0.9535175879396985,\n",
       " 'F1_score': 0.3307359307359307,\n",
       " 'CM': array([[6072,  296],\n",
       "        [1250,  382]], dtype=int64)}"
      ]
     },
     "execution_count": 15,
     "metadata": {},
     "output_type": "execute_result"
    }
   ],
   "source": [
    "Classification(clf = classifier, X = X_train, y = y_train)"
   ]
  },
  {
   "cell_type": "markdown",
   "metadata": {},
   "source": [
    "### Test Set"
   ]
  },
  {
   "cell_type": "code",
   "execution_count": 16,
   "metadata": {},
   "outputs": [
    {
     "data": {
      "text/plain": [
       "{'Accuracy': 0.81,\n",
       " 'Positive_Predictive_Value': 0.5675675675675675,\n",
       " 'Negative_Predictive_Value': 0.9498432601880877,\n",
       " 'Sensitivitive': 0.25925925925925924,\n",
       " 'Specificitive': 0.9498432601880877,\n",
       " 'F1_score': 0.3559322033898305,\n",
       " 'CM': array([[1515,   80],\n",
       "        [ 300,  105]], dtype=int64)}"
      ]
     },
     "execution_count": 16,
     "metadata": {},
     "output_type": "execute_result"
    }
   ],
   "source": [
    "Classification(clf = classifier, X = X_test, y = y_test)"
   ]
  },
  {
   "cell_type": "markdown",
   "metadata": {},
   "source": [
    "## QDA"
   ]
  },
  {
   "cell_type": "code",
   "execution_count": 17,
   "metadata": {},
   "outputs": [
    {
     "data": {
      "image/png": "[encoded data removed]",
      "text/plain": [
       "<Figure size 432x288 with 1 Axes>"
      ]
     },
     "metadata": {
      "needs_background": "light"
     },
     "output_type": "display_data"
    },
    {
     "name": "stdout",
     "output_type": "stream",
     "text": [
      "QDA: CV score = 0.481 (+/- 0.089); Test set accuracy = 0.836\n"
     ]
    }
   ],
   "source": [
    "from sklearn.discriminant_analysis import QuadraticDiscriminantAnalysis\n",
    "classifier = QuadraticDiscriminantAnalysis()\n",
    "QDA_score = cv_score(clf = classifier, X = X_train, y = y_train, cv = 10)\n",
    "classifier.fit(X_train, y_train)\n",
    "QDA_score.append(classifier.score(X_test, y_test))\n",
    "print('QDA: CV score = %0.3f (+/- %0.3f); Test set accuracy = %0.3f' % (QDA_score[0], 2 * QDA_score[1], QDA_score[2]))"
   ]
  },
  {
   "cell_type": "markdown",
   "metadata": {},
   "source": [
    "### Training Set"
   ]
  },
  {
   "cell_type": "code",
   "execution_count": 18,
   "metadata": {},
   "outputs": [
    {
     "data": {
      "text/plain": [
       "{'Accuracy': 0.83475,\n",
       " 'Positive_Predictive_Value': 0.6597938144329897,\n",
       " 'Negative_Predictive_Value': 0.948178391959799,\n",
       " 'Sensitivitive': 0.39215686274509803,\n",
       " 'Specificitive': 0.948178391959799,\n",
       " 'F1_score': 0.4919292851652575,\n",
       " 'CM': array([[6038,  330],\n",
       "        [ 992,  640]], dtype=int64)}"
      ]
     },
     "execution_count": 18,
     "metadata": {},
     "output_type": "execute_result"
    }
   ],
   "source": [
    "Classification(clf = classifier, X = X_train, y = y_train)"
   ]
  },
  {
   "cell_type": "markdown",
   "metadata": {},
   "source": [
    "### Test Set"
   ]
  },
  {
   "cell_type": "code",
   "execution_count": 19,
   "metadata": {},
   "outputs": [
    {
     "data": {
      "text/plain": [
       "{'Accuracy': 0.836,\n",
       " 'Positive_Predictive_Value': 0.6475095785440613,\n",
       " 'Negative_Predictive_Value': 0.9423197492163009,\n",
       " 'Sensitivitive': 0.41728395061728396,\n",
       " 'Specificitive': 0.9423197492163009,\n",
       " 'F1_score': 0.5075075075075075,\n",
       " 'CM': array([[1503,   92],\n",
       "        [ 236,  169]], dtype=int64)}"
      ]
     },
     "execution_count": 19,
     "metadata": {},
     "output_type": "execute_result"
    }
   ],
   "source": [
    "Classification(clf = classifier, X = X_test, y = y_test)"
   ]
  },
  {
   "cell_type": "markdown",
   "metadata": {},
   "source": [
    "## Decision Tree"
   ]
  },
  {
   "cell_type": "code",
   "execution_count": 20,
   "metadata": {},
   "outputs": [
    {
     "data": {
      "image/png": "[encoded data removed]",
      "text/plain": [
       "<Figure size 432x288 with 1 Axes>"
      ]
     },
     "metadata": {
      "needs_background": "light"
     },
     "output_type": "display_data"
    },
    {
     "name": "stdout",
     "output_type": "stream",
     "text": [
      "Decision Tree: CV score = 0.497 (+/- 0.058); Test set accuracy = 0.802\n"
     ]
    }
   ],
   "source": [
    "from sklearn.tree import DecisionTreeClassifier\n",
    "classifier = DecisionTreeClassifier(criterion = 'entropy', random_state = 0)\n",
    "Tree_score = cv_score(clf = classifier, X = X_train, y = y_train, cv = 10)\n",
    "classifier.fit(X_train, y_train)\n",
    "Tree_score.append(classifier.score(X_test, y_test))\n",
    "print('Decision Tree: CV score = %0.3f (+/- %0.3f); Test set accuracy = %0.3f' % (Tree_score[0], 2 * Tree_score[1], Tree_score[2]))"
   ]
  },
  {
   "cell_type": "markdown",
   "metadata": {},
   "source": [
    "### Training Set"
   ]
  },
  {
   "cell_type": "code",
   "execution_count": 21,
   "metadata": {},
   "outputs": [
    {
     "data": {
      "text/plain": [
       "{'Accuracy': 1.0,\n",
       " 'Positive_Predictive_Value': 1.0,\n",
       " 'Negative_Predictive_Value': 1.0,\n",
       " 'Sensitivitive': 1.0,\n",
       " 'Specificitive': 1.0,\n",
       " 'F1_score': 1.0,\n",
       " 'CM': array([[6368,    0],\n",
       "        [   0, 1632]], dtype=int64)}"
      ]
     },
     "execution_count": 21,
     "metadata": {},
     "output_type": "execute_result"
    }
   ],
   "source": [
    "Classification(clf = classifier, X = X_train, y = y_train)"
   ]
  },
  {
   "cell_type": "markdown",
   "metadata": {},
   "source": [
    "### Test Set"
   ]
  },
  {
   "cell_type": "code",
   "execution_count": 22,
   "metadata": {},
   "outputs": [
    {
     "data": {
      "text/plain": [
       "{'Accuracy': 0.802,\n",
       " 'Positive_Predictive_Value': 0.5098901098901099,\n",
       " 'Negative_Predictive_Value': 0.8601880877742947,\n",
       " 'Sensitivitive': 0.5728395061728395,\n",
       " 'Specificitive': 0.8601880877742947,\n",
       " 'F1_score': 0.5395348837209303,\n",
       " 'CM': array([[1372,  223],\n",
       "        [ 173,  232]], dtype=int64)}"
      ]
     },
     "execution_count": 22,
     "metadata": {},
     "output_type": "execute_result"
    }
   ],
   "source": [
    "Classification(clf = classifier, X = X_test, y = y_test)"
   ]
  },
  {
   "cell_type": "markdown",
   "metadata": {},
   "source": [
    "## Random Forest"
   ]
  },
  {
   "cell_type": "code",
   "execution_count": 23,
   "metadata": {},
   "outputs": [
    {
     "data": {
      "image/png": "[encoded data removed]",
      "text/plain": [
       "<Figure size 432x288 with 1 Axes>"
      ]
     },
     "metadata": {
      "needs_background": "light"
     },
     "output_type": "display_data"
    },
    {
     "name": "stdout",
     "output_type": "stream",
     "text": [
      "Random Forest(10 decision trees): CV score = 0.539 (+/- 0.073); Test set accuracy = 0.862\n"
     ]
    }
   ],
   "source": [
    "from sklearn.ensemble import RandomForestClassifier\n",
    "classifier = RandomForestClassifier(n_estimators = 10, criterion = 'entropy', random_state = 0)\n",
    "Forest_score = cv_score(clf = classifier, X = X_train, y = y_train, cv = 10)\n",
    "classifier.fit(X_train, y_train)\n",
    "Forest_score.append(classifier.score(X_test, y_test))\n",
    "print('Random Forest(10 decision trees): CV score = %0.3f (+/- %0.3f); Test set accuracy = %0.3f' % (Forest_score[0], 2 * Forest_score[1], Forest_score[2]))"
   ]
  },
  {
   "cell_type": "markdown",
   "metadata": {},
   "source": [
    "### Training Set"
   ]
  },
  {
   "cell_type": "code",
   "execution_count": 24,
   "metadata": {},
   "outputs": [
    {
     "data": {
      "text/plain": [
       "{'Accuracy': 0.986625,\n",
       " 'Positive_Predictive_Value': 0.9973907371167645,\n",
       " 'Negative_Predictive_Value': 0.9993718592964824,\n",
       " 'Sensitivitive': 0.9368872549019608,\n",
       " 'Specificitive': 0.9993718592964824,\n",
       " 'F1_score': 0.9661927330173776,\n",
       " 'CM': array([[6364,    4],\n",
       "        [ 103, 1529]], dtype=int64)}"
      ]
     },
     "execution_count": 24,
     "metadata": {},
     "output_type": "execute_result"
    }
   ],
   "source": [
    "Classification(clf = classifier, X = X_train, y = y_train)"
   ]
  },
  {
   "cell_type": "markdown",
   "metadata": {},
   "source": [
    "### Test Set"
   ]
  },
  {
   "cell_type": "code",
   "execution_count": 25,
   "metadata": {},
   "outputs": [
    {
     "data": {
      "text/plain": [
       "{'Accuracy': 0.8615,\n",
       " 'Positive_Predictive_Value': 0.7318840579710145,\n",
       " 'Negative_Predictive_Value': 0.9536050156739811,\n",
       " 'Sensitivitive': 0.49876543209876545,\n",
       " 'Specificitive': 0.9536050156739811,\n",
       " 'F1_score': 0.5932452276064611,\n",
       " 'CM': array([[1521,   74],\n",
       "        [ 203,  202]], dtype=int64)}"
      ]
     },
     "execution_count": 25,
     "metadata": {},
     "output_type": "execute_result"
    }
   ],
   "source": [
    "Classification(clf = classifier, X = X_test, y = y_test)"
   ]
  },
  {
   "cell_type": "markdown",
   "metadata": {},
   "source": [
    "## ANN"
   ]
  },
  {
   "cell_type": "code",
   "execution_count": 26,
   "metadata": {},
   "outputs": [
    {
     "name": "stderr",
     "output_type": "stream",
     "text": [
      "Using TensorFlow backend.\n",
      "WARNING: Logging before flag parsing goes to stderr.\n",
      "W1123 15:58:28.359681  6376 deprecation_wrapper.py:119] From C:\\Users\\Hong\\Anaconda3\\lib\\site-packages\\keras\\backend\\tensorflow_backend.py:74: The name tf.get_default_graph is deprecated. Please use tf.compat.v1.get_default_graph instead.\n",
      "\n",
      "W1123 15:58:28.390596  6376 deprecation_wrapper.py:119] From C:\\Users\\Hong\\Anaconda3\\lib\\site-packages\\keras\\backend\\tensorflow_backend.py:517: The name tf.placeholder is deprecated. Please use tf.compat.v1.placeholder instead.\n",
      "\n",
      "W1123 15:58:28.401567  6376 deprecation_wrapper.py:119] From C:\\Users\\Hong\\Anaconda3\\lib\\site-packages\\keras\\backend\\tensorflow_backend.py:4138: The name tf.random_uniform is deprecated. Please use tf.random.uniform instead.\n",
      "\n",
      "W1123 15:58:28.474865  6376 deprecation_wrapper.py:119] From C:\\Users\\Hong\\Anaconda3\\lib\\site-packages\\keras\\optimizers.py:790: The name tf.train.Optimizer is deprecated. Please use tf.compat.v1.train.Optimizer instead.\n",
      "\n",
      "W1123 15:58:28.501795  6376 deprecation_wrapper.py:119] From C:\\Users\\Hong\\Anaconda3\\lib\\site-packages\\keras\\backend\\tensorflow_backend.py:3376: The name tf.log is deprecated. Please use tf.math.log instead.\n",
      "\n",
      "W1123 15:58:28.507778  6376 deprecation.py:323] From C:\\Users\\Hong\\Anaconda3\\lib\\site-packages\\tensorflow\\python\\ops\\nn_impl.py:180: add_dispatch_support.<locals>.wrapper (from tensorflow.python.ops.array_ops) is deprecated and will be removed in a future version.\n",
      "Instructions for updating:\n",
      "Use tf.where in 2.0, which has the same broadcast rule as np.where\n",
      "W1123 15:58:28.685302  6376 deprecation_wrapper.py:119] From C:\\Users\\Hong\\Anaconda3\\lib\\site-packages\\keras\\backend\\tensorflow_backend.py:986: The name tf.assign_add is deprecated. Please use tf.compat.v1.assign_add instead.\n",
      "\n"
     ]
    },
    {
     "data": {
      "image/png": "[encoded data removed]",
      "text/plain": [
       "<Figure size 432x288 with 1 Axes>"
      ]
     },
     "metadata": {
      "needs_background": "light"
     },
     "output_type": "display_data"
    },
    {
     "name": "stdout",
     "output_type": "stream",
     "text": [
      "ANN: CV score = 0.492 (+/- 0.111); Test set accuracy = 0.850\n"
     ]
    }
   ],
   "source": [
    "from keras.wrappers.scikit_learn import KerasClassifier\n",
    "from sklearn.model_selection import cross_val_score\n",
    "from keras.models import Sequential\n",
    "from keras.layers import Dense\n",
    "def build_classifier():\n",
    "    classifier = Sequential()\n",
    "    classifier.add(Dense(units = 6, kernel_initializer = 'uniform', activation = 'relu', input_dim = 11))\n",
    "    classifier.add(Dense(units = 6, kernel_initializer = 'uniform', activation = 'relu'))\n",
    "    classifier.add(Dense(units = 1, kernel_initializer = 'uniform', activation = 'sigmoid'))\n",
    "    classifier.compile(optimizer = 'adam', loss = 'binary_crossentropy', metrics = ['accuracy'])\n",
    "    return classifier\n",
    "classifier = KerasClassifier(build_fn = build_classifier, batch_size = 25, epochs = 300, verbose = 0)\n",
    "ANN_score = cv_score(clf = classifier, X = X_train, y = y_train, cv = 10)\n",
    "classifier.fit(X_train, y_train)\n",
    "ANN_score.append(classifier.score(X_test, y_test))\n",
    "print('ANN: CV score = %0.3f (+/- %0.3f); Test set accuracy = %0.3f' % (ANN_score[0], 2 * ANN_score[1], ANN_score[2]))"
   ]
  },
  {
   "cell_type": "markdown",
   "metadata": {},
   "source": [
    "# Conclusion"
   ]
  },
  {
   "cell_type": "code",
   "execution_count": 27,
   "metadata": {},
   "outputs": [
    {
     "name": "stdout",
     "output_type": "stream",
     "text": [
      "Logistic Regression: CV score = 0.309 (+/- 0.082); Test set accuracy = 0.811\n",
      "SVM: CV score = 0.547 (+/- 0.093); Test set accuracy = 0.861\n",
      "Naive Bayes: CV score = 0.435 (+/- 0.070); Test set accuracy = 0.830\n",
      "LDA: CV score = 0.326 (+/- 0.080); Test set accuracy = 0.810\n",
      "QDA: CV score = 0.481 (+/- 0.089); Test set accuracy = 0.836\n",
      "Decision Tree: CV score = 0.497 (+/- 0.058); Test set accuracy = 0.802\n",
      "Random Forest(10 decision trees): CV score = 0.539 (+/- 0.073); Test set accuracy = 0.862\n",
      "ANN: CV score = 0.492 (+/- 0.111); Test set accuracy = 0.850\n"
     ]
    }
   ],
   "source": [
    "print('Logistic Regression: CV score = %0.3f (+/- %0.3f); Test set accuracy = %0.3f' % (Logistic_score[0], 2 * Logistic_score[1], Logistic_score[2]))\n",
    "print('SVM: CV score = %0.3f (+/- %0.3f); Test set accuracy = %0.3f' % (SVM_score[0], 2 * SVM_score[1], SVM_score[2]))\n",
    "print('Naive Bayes: CV score = %0.3f (+/- %0.3f); Test set accuracy = %0.3f' % (NB_score[0], 2 * NB_score[1], NB_score[2]))\n",
    "print('LDA: CV score = %0.3f (+/- %0.3f); Test set accuracy = %0.3f' % (LDA_score[0], 2 * LDA_score[1], LDA_score[2]))\n",
    "print('QDA: CV score = %0.3f (+/- %0.3f); Test set accuracy = %0.3f' % (QDA_score[0], 2 * QDA_score[1], QDA_score[2]))\n",
    "print('Decision Tree: CV score = %0.3f (+/- %0.3f); Test set accuracy = %0.3f' % (Tree_score[0], 2 * Tree_score[1], Tree_score[2]))\n",
    "print('Random Forest(10 decision trees): CV score = %0.3f (+/- %0.3f); Test set accuracy = %0.3f' % (Forest_score[0], 2 * Forest_score[1], Forest_score[2]))\n",
    "print('ANN: CV score = %0.3f (+/- %0.3f); Test set accuracy = %0.3f' % (ANN_score[0], 2 * ANN_score[1], ANN_score[2]))"
   ]
  },
  {
   "cell_type": "code",
   "execution_count": null,
   "metadata": {},
   "outputs": [],
   "source": []
  }
 ],
 "metadata": {
  "kernelspec": {
   "display_name": "Python 3",
   "language": "python",
   "name": "python3"
  },
  "language_info": {
   "codemirror_mode": {
    "name": "ipython",
    "version": 3
   },
   "file_extension": ".py",
   "mimetype": "text/x-python",
   "name": "python",
   "nbconvert_exporter": "python",
   "pygments_lexer": "ipython3",
   "version": "3.7.3"
  }
 },
 "nbformat": 4,
 "nbformat_minor": 2
}
