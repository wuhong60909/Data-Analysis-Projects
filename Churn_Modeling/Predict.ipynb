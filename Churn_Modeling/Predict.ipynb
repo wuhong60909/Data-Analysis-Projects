{
 "cells": [
  {
   "cell_type": "markdown",
   "metadata": {},
   "source": [
    "# Predict"
   ]
  },
  {
   "cell_type": "code",
   "execution_count": null,
   "metadata": {},
   "outputs": [],
   "source": [
    "# Predicting a new data\n",
    "RowNumber = [0]\n",
    "CustomerId = [0]\n",
    "Surname = [\"name\"]\n",
    "CreditScore = [600]\n",
    "Geography = [\"France\"]\n",
    "Gender = [\"Male\"]\n",
    "Age = [40]\n",
    "Tenure = [3]\n",
    "Balance = [60000]\n",
    "NumOfProducts = [2]\n",
    "HasCrCard = [1]\n",
    "IsActiveMember = [1]\n",
    "EstimatedSalary = [50000]\n",
    "\n",
    "X_new_dict = {\n",
    "        'RowNumber': RowNumber,\n",
    "        'CustomerId': CustomerId,\n",
    "        'Surname': Surname,\n",
    "        'CreditScore': CreditScore,\n",
    "        'Geography': Geography,\n",
    "        'Gender': Gender,\n",
    "        'Age': Age,\n",
    "        'Tenure': Tenure,\n",
    "        'Balance': Balance,\n",
    "        'NumOfProducts': NumOfProducts,\n",
    "        'HasCrCard': HasCrCard,\n",
    "        'IsActiveMember': IsActiveMember,\n",
    "        'EstimatedSalary': EstimatedSalary   \n",
    "}\n",
    "X_new_df = pd.DataFrame(X_new_dict)\n",
    "X_new = X_new_df.iloc[:, 3:13].values\n",
    "\n",
    "X_new[:, 1] = labelencoder_X_1.transform(X_new[:, 1])\n",
    "X_new[:, 2] = labelencoder_X_2.transform(X_new[:, 2])\n",
    "X_new = onehotencoder.transform(X_new).toarray()\n",
    "X_new = X_new[:, 1:] # Avoiding dummy variable trap!\n",
    "X_new = sc.transform(X_new)\n",
    "\n",
    "y_new_pred = classifier.predict(X_new)\n",
    "y_new_pred = (y_new_pred > 0.5)\n",
    "y_new_pred"
   ]
  },
  {
   "cell_type": "code",
   "execution_count": null,
   "metadata": {},
   "outputs": [],
   "source": [
    "# Example\n",
    "a = np.array([[0, 0, 600, 1, 40, 3, 60000, 2, 1, 1, 50000]])\n",
    "a = sc.transform(a)\n",
    "a_pred = classifier.predict(a)\n",
    "a_pred = (a_pred > 0.5)\n",
    "a_pred"
   ]
  }
 ],
 "metadata": {
  "kernelspec": {
   "display_name": "Python 3",
   "language": "python",
   "name": "python3"
  },
  "language_info": {
   "codemirror_mode": {
    "name": "ipython",
    "version": 3
   },
   "file_extension": ".py",
   "mimetype": "text/x-python",
   "name": "python",
   "nbconvert_exporter": "python",
   "pygments_lexer": "ipython3",
   "version": "3.7.3"
  }
 },
 "nbformat": 4,
 "nbformat_minor": 2
}
